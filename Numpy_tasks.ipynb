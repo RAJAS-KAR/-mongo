{
  "cells": [
    {
      "cell_type": "markdown",
      "metadata": {
        "id": "view-in-github",
        "colab_type": "text"
      },
      "source": [
        "<a href=\"https://colab.research.google.com/github/RAJAS-KAR/-mongo/blob/main/Numpy_tasks.ipynb\" target=\"_parent\"><img src=\"https://colab.research.google.com/assets/colab-badge.svg\" alt=\"Open In Colab\"/></a>"
      ]
    },
    {
      "cell_type": "markdown",
      "metadata": {
        "id": "4msOB_m5w6Cl"
      },
      "source": [
        "# Numpy\n",
        "\n"
      ]
    },
    {
      "cell_type": "markdown",
      "metadata": {
        "id": "tMzDjK0vw6Cq"
      },
      "source": [
        "#### 1. Import the numpy package under the name `np` (★☆☆) \n",
        "(**hint**: import … as …)"
      ]
    },
    {
      "cell_type": "code",
      "execution_count": 2,
      "metadata": {
        "collapsed": true,
        "id": "va80aIQPw6Cq"
      },
      "outputs": [],
      "source": [
        "import numpy as np"
      ]
    },
    {
      "cell_type": "markdown",
      "metadata": {
        "id": "-C0zX4cfw6Cr"
      },
      "source": [
        "#### 2. Print the numpy version and the configuration (★☆☆) \n",
        "(**hint**: np.\\_\\_version\\_\\_, np.show\\_config)"
      ]
    },
    {
      "cell_type": "code",
      "execution_count": 15,
      "metadata": {
        "colab": {
          "base_uri": "https://localhost:8080/"
        },
        "id": "eGI8vKQXw6Cr",
        "outputId": "35a82e68-eedf-467c-b23c-21ad541a7156"
      },
      "outputs": [
        {
          "output_type": "stream",
          "name": "stdout",
          "text": [
            "<module 'numpy._version' from '/usr/local/lib/python3.7/dist-packages/numpy/_version.py'>\n",
            "blas_mkl_info:\n",
            "  NOT AVAILABLE\n",
            "blis_info:\n",
            "  NOT AVAILABLE\n",
            "openblas_info:\n",
            "    libraries = ['openblas', 'openblas']\n",
            "    library_dirs = ['/usr/local/lib']\n",
            "    language = c\n",
            "    define_macros = [('HAVE_CBLAS', None)]\n",
            "    runtime_library_dirs = ['/usr/local/lib']\n",
            "blas_opt_info:\n",
            "    libraries = ['openblas', 'openblas']\n",
            "    library_dirs = ['/usr/local/lib']\n",
            "    language = c\n",
            "    define_macros = [('HAVE_CBLAS', None)]\n",
            "    runtime_library_dirs = ['/usr/local/lib']\n",
            "lapack_mkl_info:\n",
            "  NOT AVAILABLE\n",
            "openblas_lapack_info:\n",
            "    libraries = ['openblas', 'openblas']\n",
            "    library_dirs = ['/usr/local/lib']\n",
            "    language = c\n",
            "    define_macros = [('HAVE_CBLAS', None)]\n",
            "    runtime_library_dirs = ['/usr/local/lib']\n",
            "lapack_opt_info:\n",
            "    libraries = ['openblas', 'openblas']\n",
            "    library_dirs = ['/usr/local/lib']\n",
            "    language = c\n",
            "    define_macros = [('HAVE_CBLAS', None)]\n",
            "    runtime_library_dirs = ['/usr/local/lib']\n",
            "Supported SIMD extensions in this NumPy install:\n",
            "    baseline = SSE,SSE2,SSE3\n",
            "    found = SSSE3,SSE41,POPCNT,SSE42,AVX,F16C,FMA3,AVX2\n",
            "    not found = AVX512F,AVX512CD,AVX512_KNL,AVX512_KNM,AVX512_SKX,AVX512_CLX,AVX512_CNL,AVX512_ICL\n",
            "None\n"
          ]
        }
      ],
      "source": [
        "print(np._version)\n",
        "print(np.show_config())"
      ]
    },
    {
      "cell_type": "markdown",
      "metadata": {
        "id": "Y3lCmWDLw6Cr"
      },
      "source": [
        "#### 3. Create a null vector of size 10 (★☆☆) \n",
        "(**hint**: np.zeros)"
      ]
    },
    {
      "cell_type": "code",
      "execution_count": 16,
      "metadata": {
        "colab": {
          "base_uri": "https://localhost:8080/"
        },
        "id": "R81WTykXw6Cs",
        "outputId": "8d25598a-fdd8-4a7f-cc7c-f5ee33ed7a2e"
      },
      "outputs": [
        {
          "output_type": "stream",
          "name": "stdout",
          "text": [
            "[0. 0. 0. 0. 0. 0. 0. 0. 0. 0.]\n"
          ]
        }
      ],
      "source": [
        "a = np.zeros(10)\n",
        "print(a)"
      ]
    },
    {
      "cell_type": "markdown",
      "metadata": {
        "id": "qdCGcIyHw6Cs"
      },
      "source": [
        "#### 4.  How to find the memory size of any array (★☆☆) \n",
        "(**hint**: size, itemsize)"
      ]
    },
    {
      "cell_type": "code",
      "execution_count": 17,
      "metadata": {
        "colab": {
          "base_uri": "https://localhost:8080/"
        },
        "id": "D-rtRIo_w6Ct",
        "outputId": "3939e162-91b9-443b-a7db-1cd4b59c04c8"
      },
      "outputs": [
        {
          "output_type": "execute_result",
          "data": {
            "text/plain": [
              "<function numpy.size(a, axis=None)>"
            ]
          },
          "metadata": {},
          "execution_count": 17
        }
      ],
      "source": [
        "np.size"
      ]
    },
    {
      "cell_type": "markdown",
      "metadata": {
        "id": "mkdBycTQw6Ct"
      },
      "source": [
        "#### 5.  How to get the documentation of the numpy add function from the command line? (★☆☆) \n",
        "(**hint**: np.info)"
      ]
    },
    {
      "cell_type": "code",
      "execution_count": 7,
      "metadata": {
        "collapsed": true,
        "colab": {
          "base_uri": "https://localhost:8080/"
        },
        "id": "n3qZxCFdw6Ct",
        "outputId": "0e3ab354-494e-45f7-9447-64ef7c4b2a26"
      },
      "outputs": [
        {
          "output_type": "stream",
          "name": "stderr",
          "text": [
            "ERROR:root:File `'python.py'` not found.\n"
          ]
        }
      ],
      "source": [
        "%run python -c ;\"import numpy; numpy.info(numpy.add)\""
      ]
    },
    {
      "cell_type": "markdown",
      "metadata": {
        "id": "5s5FeRgWw6Cu"
      },
      "source": [
        "#### 6.  Create a null vector of size 10 but the fifth value which is 1 (★☆☆) \n",
        "(**hint**: array\\[4\\])"
      ]
    },
    {
      "cell_type": "code",
      "execution_count": 8,
      "metadata": {
        "colab": {
          "base_uri": "https://localhost:8080/"
        },
        "id": "03doYfDyw6Cu",
        "outputId": "141803c8-b449-4a51-bba8-9aa82adb1f89"
      },
      "outputs": [
        {
          "output_type": "stream",
          "name": "stdout",
          "text": [
            "[0. 0. 0. 0. 1. 0. 0. 0. 0. 0.]\n"
          ]
        }
      ],
      "source": [
        "a = np.zeros(10)\n",
        "a[4] = 1\n",
        "print(a)"
      ]
    },
    {
      "cell_type": "markdown",
      "metadata": {
        "id": "Ow42CEoJw6Cu"
      },
      "source": [
        "#### 7.  Create a vector with values ranging from 10 to 49 (★☆☆) \n",
        "(**hint**: np.arange)"
      ]
    },
    {
      "cell_type": "code",
      "execution_count": 9,
      "metadata": {
        "colab": {
          "base_uri": "https://localhost:8080/"
        },
        "id": "R4X9uS3Aw6Cu",
        "outputId": "3c8bc801-28cb-4951-ec47-aa5763e228c1"
      },
      "outputs": [
        {
          "output_type": "stream",
          "name": "stdout",
          "text": [
            "[10 11 12 13 14 15 16 17 18 19 20 21 22 23 24 25 26 27 28 29 30 31 32 33\n",
            " 34 35 36 37 38 39 40 41 42 43 44 45 46 47 48 49]\n"
          ]
        }
      ],
      "source": [
        "a = np.arange(10,50)\n",
        "print(a)"
      ]
    },
    {
      "cell_type": "markdown",
      "metadata": {
        "id": "rgt6K_8tw6Cv"
      },
      "source": [
        "#### 8.  Reverse a vector (first element becomes last) (★☆☆) \n",
        "(**hint**: array\\[::-1\\])"
      ]
    },
    {
      "cell_type": "code",
      "execution_count": 10,
      "metadata": {
        "colab": {
          "base_uri": "https://localhost:8080/"
        },
        "id": "U8t3bZ54w6Cv",
        "outputId": "69f5ea16-da42-493b-ff4a-c1a3e7c27202"
      },
      "outputs": [
        {
          "output_type": "stream",
          "name": "stdout",
          "text": [
            "[49 48 47 46 45 44 43 42 41 40 39 38 37 36 35 34 33 32 31 30 29 28 27 26\n",
            " 25 24 23 22 21 20 19 18 17 16 15 14 13 12 11 10  9  8  7  6  5  4  3  2\n",
            "  1  0]\n"
          ]
        }
      ],
      "source": [
        "x = np.arange(50)\n",
        "x = x[::-1]\n",
        "print(x)\n"
      ]
    },
    {
      "cell_type": "markdown",
      "metadata": {
        "id": "HZ3ishoUw6Cv"
      },
      "source": [
        "#### 9.  Create a 3x3 matrix with values ranging from 0 to 8 (★☆☆) \n",
        "(**hint**: reshape)"
      ]
    },
    {
      "cell_type": "code",
      "execution_count": 11,
      "metadata": {
        "colab": {
          "base_uri": "https://localhost:8080/"
        },
        "id": "Uil97fA7w6Cv",
        "outputId": "dd1d8feb-a85f-43e9-945c-e08b22d92305"
      },
      "outputs": [
        {
          "output_type": "stream",
          "name": "stdout",
          "text": [
            "[[0 1 2]\n",
            " [3 4 5]\n",
            " [6 7 8]]\n"
          ]
        }
      ],
      "source": [
        "y = np.arange(9).reshape(3,3)\n",
        "print(y)"
      ]
    },
    {
      "cell_type": "markdown",
      "metadata": {
        "id": "_U4HMu9ow6Cv"
      },
      "source": [
        "#### 10. Find indices of non-zero elements from \\[1,2,0,0,4,0\\] (★☆☆) \n",
        "(**hint**: np.nonzero)"
      ]
    },
    {
      "cell_type": "code",
      "execution_count": 12,
      "metadata": {
        "colab": {
          "base_uri": "https://localhost:8080/"
        },
        "id": "H7cIKhuOw6Cw",
        "outputId": "a058dcec-5cd4-4c5f-cb63-306aee55ccea"
      },
      "outputs": [
        {
          "output_type": "stream",
          "name": "stdout",
          "text": [
            "(array([0, 1, 4]),)\n"
          ]
        }
      ],
      "source": [
        "n = np.nonzero([1,2,0,0,4,0])\n",
        "print(n)"
      ]
    },
    {
      "cell_type": "markdown",
      "metadata": {
        "id": "GMkHwMUCw6Cw"
      },
      "source": [
        "#### 11. Create a 3x3 identity matrix (★☆☆) \n",
        "(**hint**: np.eye)"
      ]
    },
    {
      "cell_type": "code",
      "execution_count": 13,
      "metadata": {
        "colab": {
          "base_uri": "https://localhost:8080/"
        },
        "id": "wzyJNEWlw6Cx",
        "outputId": "288e7f37-a540-4ba3-e5ac-30062aa629fa"
      },
      "outputs": [
        {
          "output_type": "stream",
          "name": "stdout",
          "text": [
            "[[1. 0. 0.]\n",
            " [0. 1. 0.]\n",
            " [0. 0. 1.]]\n"
          ]
        }
      ],
      "source": [
        "n = np.eye(3)\n",
        "print(n)"
      ]
    },
    {
      "cell_type": "markdown",
      "metadata": {
        "id": "7NbxA4LVw6Cx"
      },
      "source": [
        "#### 12. Create a 3x3x3 array with random values (★☆☆) \n",
        "(**hint**: np.random.random)"
      ]
    },
    {
      "cell_type": "code",
      "execution_count": 14,
      "metadata": {
        "collapsed": true,
        "colab": {
          "base_uri": "https://localhost:8080/"
        },
        "id": "qAhGslkcw6Cx",
        "outputId": "8a075ffd-fb78-40c4-cdc4-7455e5a9a74e"
      },
      "outputs": [
        {
          "output_type": "stream",
          "name": "stdout",
          "text": [
            "[[[0.43849911 0.39079777 0.04735018]\n",
            "  [0.74580369 0.09421833 0.28858677]\n",
            "  [0.57961473 0.98570997 0.11410445]]\n",
            "\n",
            " [[0.49524948 0.88021942 0.20309248]\n",
            "  [0.08168993 0.79639017 0.35433786]\n",
            "  [0.98625613 0.41428634 0.80300456]]\n",
            "\n",
            " [[0.67252897 0.9095655  0.85063948]\n",
            "  [0.80654897 0.56801734 0.12031958]\n",
            "  [0.28303188 0.28060406 0.3129217 ]]]\n"
          ]
        }
      ],
      "source": [
        "m = np.random.random((3,3,3))\n",
        "print(m)"
      ]
    },
    {
      "cell_type": "markdown",
      "metadata": {
        "id": "j6qQaLuqw6Cx"
      },
      "source": [
        "#### 13. Create a 10x10 array with random values and find the minimum and maximum values (★☆☆) \n",
        "(**hint**: min, max)"
      ]
    },
    {
      "cell_type": "code",
      "execution_count": 15,
      "metadata": {
        "colab": {
          "base_uri": "https://localhost:8080/"
        },
        "id": "ZYdEni7_w6Cy",
        "outputId": "43ea767a-5425-4992-851e-b672afad86b7"
      },
      "outputs": [
        {
          "output_type": "stream",
          "name": "stdout",
          "text": [
            "0.002596998451208088 0.9909168792697314\n"
          ]
        }
      ],
      "source": [
        "s = np.random.random((10,10))\n",
        "print(s.min(), s.max())"
      ]
    },
    {
      "cell_type": "markdown",
      "metadata": {
        "id": "mWDawNMXw6Cy"
      },
      "source": [
        "#### 14. Create a random vector of size 30 and find the mean value (★☆☆) \n",
        "(**hint**: mean)"
      ]
    },
    {
      "cell_type": "code",
      "execution_count": 16,
      "metadata": {
        "colab": {
          "base_uri": "https://localhost:8080/"
        },
        "id": "nVTYesN3w6Cy",
        "outputId": "485ff908-b5d8-46d8-8d34-5683b5467774"
      },
      "outputs": [
        {
          "output_type": "stream",
          "name": "stdout",
          "text": [
            "0.42854678263897317\n"
          ]
        }
      ],
      "source": [
        "a = np.random.random(30)\n",
        "a = a.mean()\n",
        "print(a)"
      ]
    },
    {
      "cell_type": "markdown",
      "metadata": {
        "id": "ZsWXDxmBw6Cy"
      },
      "source": [
        "#### 15. Create a 2d array with 1 on the border and 0 inside (★☆☆) \n",
        "(**hint**: array\\[1:-1, 1:-1\\])"
      ]
    },
    {
      "cell_type": "code",
      "execution_count": 17,
      "metadata": {
        "colab": {
          "base_uri": "https://localhost:8080/"
        },
        "id": "M-cGAXwHw6Cy",
        "outputId": "70c154bb-f367-47b1-9b94-2ea43615af2f"
      },
      "outputs": [
        {
          "output_type": "stream",
          "name": "stdout",
          "text": [
            "[[1. 1. 1. 1. 1. 1.]\n",
            " [1. 0. 0. 0. 0. 1.]\n",
            " [1. 0. 0. 0. 0. 1.]\n",
            " [1. 0. 0. 0. 0. 1.]\n",
            " [1. 0. 0. 0. 0. 1.]\n",
            " [1. 1. 1. 1. 1. 1.]]\n"
          ]
        }
      ],
      "source": [
        "s = np.ones((6,6))\n",
        "s[1:-1,1:-1] = 0\n",
        "print(s)"
      ]
    },
    {
      "cell_type": "markdown",
      "metadata": {
        "id": "MYUgO3-Ew6Cy"
      },
      "source": [
        "#### 16. How to add a border (filled with 0's) around an existing array? (★☆☆) \n",
        "(**hint**: np.pad)"
      ]
    },
    {
      "cell_type": "code",
      "execution_count": 18,
      "metadata": {
        "colab": {
          "base_uri": "https://localhost:8080/"
        },
        "id": "HHvJ5YZJw6Cy",
        "outputId": "03f81951-3d86-4de1-958f-05939b38634a"
      },
      "outputs": [
        {
          "output_type": "stream",
          "name": "stdout",
          "text": [
            "[[0. 0. 0. 0. 0.]\n",
            " [0. 1. 1. 1. 0.]\n",
            " [0. 1. 1. 1. 0.]\n",
            " [0. 1. 1. 1. 0.]\n",
            " [0. 0. 0. 0. 0.]]\n"
          ]
        }
      ],
      "source": [
        "a =np.ones((3,3))\n",
        "print(np.pad(a,pad_width=1, mode='constant',constant_values=0))"
      ]
    },
    {
      "cell_type": "markdown",
      "metadata": {
        "id": "baAXq_ifw6Cz"
      },
      "source": [
        "#### 17. What is the result of the following expression? (★☆☆) \n",
        "(**hint**: NaN = not a number, inf = infinity)"
      ]
    },
    {
      "cell_type": "markdown",
      "metadata": {
        "id": "JWgQj3Svw6Cz"
      },
      "source": [
        "```python\n",
        "0 * np.nan\n",
        "np.nan == np.nan\n",
        "np.inf > np.nan\n",
        "np.nan - np.nan\n",
        "print(0.3 == 3 * 0.1)\n",
        "```"
      ]
    },
    {
      "cell_type": "code",
      "execution_count": 19,
      "metadata": {
        "colab": {
          "base_uri": "https://localhost:8080/"
        },
        "id": "luSvqOmbw6Cz",
        "outputId": "c89f7d21-8065-434c-b0fd-880a8624c59b"
      },
      "outputs": [
        {
          "output_type": "stream",
          "name": "stdout",
          "text": [
            "nan\n",
            "False\n",
            "False\n",
            "nan\n",
            "False\n"
          ]
        }
      ],
      "source": [
        "print(0 * np.nan)\n",
        "print(np.nan == np.nan)\n",
        "print(np.inf > np.nan)\n",
        "print(np.nan - np.nan)\n",
        "print(0.3 == 3 * 0.1)"
      ]
    },
    {
      "cell_type": "markdown",
      "metadata": {
        "id": "27vrXTeow6Cz"
      },
      "source": [
        "#### 18. Create a 5x5 matrix with values 1,2,3,4 just below the diagonal (★☆☆) \n",
        "(**hint**: np.diag)"
      ]
    },
    {
      "cell_type": "code",
      "execution_count": 20,
      "metadata": {
        "colab": {
          "base_uri": "https://localhost:8080/"
        },
        "id": "mTuIORxzw6Cz",
        "outputId": "a18bdd79-86b1-4012-947f-b95305a0c2f8"
      },
      "outputs": [
        {
          "output_type": "stream",
          "name": "stdout",
          "text": [
            "[[0 0 0 0 0]\n",
            " [1 0 0 0 0]\n",
            " [0 2 0 0 0]\n",
            " [0 0 3 0 0]\n",
            " [0 0 0 4 0]]\n"
          ]
        }
      ],
      "source": [
        "print(np.diag(1+np.arange(4),k=-1))"
      ]
    },
    {
      "cell_type": "markdown",
      "metadata": {
        "id": "sUILPUAHw6Cz"
      },
      "source": [
        "#### 19. Create a 8x8 matrix and fill it with a checkerboard pattern (★☆☆) \n",
        "(**hint**: array\\[::2\\])"
      ]
    },
    {
      "cell_type": "code",
      "execution_count": 21,
      "metadata": {
        "colab": {
          "base_uri": "https://localhost:8080/"
        },
        "id": "ME-RtmbMw6Cz",
        "outputId": "3c655ee7-5dda-449d-b3c8-2711e1f63572"
      },
      "outputs": [
        {
          "output_type": "stream",
          "name": "stdout",
          "text": [
            "[[0 1 0 1 0 1 0 1]\n",
            " [1 0 1 0 1 0 1 0]\n",
            " [0 1 0 1 0 1 0 1]\n",
            " [1 0 1 0 1 0 1 0]\n",
            " [0 1 0 1 0 1 0 1]\n",
            " [1 0 1 0 1 0 1 0]\n",
            " [0 1 0 1 0 1 0 1]\n",
            " [1 0 1 0 1 0 1 0]]\n"
          ]
        }
      ],
      "source": [
        "a = np.zeros((8,8),dtype = int)\n",
        "a[1::2,::2]=1\n",
        "a[::2,1::2]=1\n",
        "print(a)\n"
      ]
    },
    {
      "cell_type": "markdown",
      "metadata": {
        "id": "2Qj-Wgi3w6C0"
      },
      "source": [
        "#### 20. Consider a (6,7,8) shape array, what is the index (x,y,z) of the 100th element? \n",
        "(**hint**: np.unravel_index)"
      ]
    },
    {
      "cell_type": "code",
      "execution_count": 22,
      "metadata": {
        "colab": {
          "base_uri": "https://localhost:8080/"
        },
        "id": "qSPLTcGCw6C0",
        "outputId": "312844d6-de99-4ae8-e6c7-146ffef31602"
      },
      "outputs": [
        {
          "output_type": "stream",
          "name": "stdout",
          "text": [
            "(1, 5, 4)\n"
          ]
        }
      ],
      "source": [
        "print(np.unravel_index(100,(6,7,8)))"
      ]
    },
    {
      "cell_type": "markdown",
      "metadata": {
        "id": "V10O5ZSuw6C0"
      },
      "source": [
        "#### 21. Create a checkerboard 8x8 matrix using the tile function (★☆☆) \n",
        "(**hint**: np.tile)"
      ]
    },
    {
      "cell_type": "code",
      "execution_count": 23,
      "metadata": {
        "colab": {
          "base_uri": "https://localhost:8080/"
        },
        "id": "zwZlKM0jw6C0",
        "outputId": "7043011a-beef-490b-886f-cef901994ada"
      },
      "outputs": [
        {
          "output_type": "stream",
          "name": "stdout",
          "text": [
            "[[0 1 0 1 0 1]\n",
            " [1 0 1 0 1 0]\n",
            " [0 1 0 1 0 1]\n",
            " [1 0 1 0 1 0]]\n"
          ]
        }
      ],
      "source": [
        "a = np.tile(np.array([[0,1],[1,0]]),[2,3])\n",
        "print(a)"
      ]
    },
    {
      "cell_type": "markdown",
      "metadata": {
        "id": "dwkArjWUw6C0"
      },
      "source": [
        "#### 22. Normalize a 5x5 random matrix (★☆☆) \n",
        "(**hint**: (x - min) / (max - min))"
      ]
    },
    {
      "cell_type": "code",
      "execution_count": 18,
      "metadata": {
        "colab": {
          "base_uri": "https://localhost:8080/"
        },
        "id": "AmP_R6qFw6C0",
        "outputId": "cedddbbb-01ee-4d77-e394-6cd8a717b52e"
      },
      "outputs": [
        {
          "output_type": "stream",
          "name": "stdout",
          "text": [
            "[[-0.28215193  1.04956553 -0.0965561   1.08520476  0.12240946]\n",
            " [-0.53928014 -0.97195273 -1.06107571  0.54587555 -1.34565887]\n",
            " [ 0.40653518  1.57609218 -1.12727137 -0.56801421 -0.70094231]\n",
            " [-0.76995938  0.53621007 -0.72585645 -0.70008072  0.2713103 ]\n",
            " [ 1.77547235  1.84217383 -1.19015483  1.67954175 -0.81143621]]\n"
          ]
        }
      ],
      "source": [
        "Z = np.random.random((5,5))\n",
        "Z = (Z - np.mean (Z)) / (np.std (Z))\n",
        "print(Z)"
      ]
    },
    {
      "cell_type": "markdown",
      "metadata": {
        "id": "1NxdXUxEw6C0"
      },
      "source": [
        "#### 23. Create a custom dtype that describes a color as four unsigned bytes (RGBA) (★☆☆) \n",
        "(**hint**: np.dtype)"
      ]
    },
    {
      "cell_type": "code",
      "execution_count": 31,
      "metadata": {
        "collapsed": true,
        "id": "7ceqo1G7w6C1"
      },
      "outputs": [],
      "source": [
        "color = np.dtype([(\"r\", np.ubyte),\n",
        "                  (\"g\", np.ubyte),\n",
        "                  (\"b\", np.ubyte),\n",
        "                  (\"a\", np.ubyte)])\n"
      ]
    },
    {
      "cell_type": "markdown",
      "metadata": {
        "id": "uG-fK7tuw6C1"
      },
      "source": [
        "#### 24. Multiply a 5x3 matrix by a 3x2 matrix (real matrix product) (★☆☆) \n",
        "(**hint**: np.dot | @)"
      ]
    },
    {
      "cell_type": "code",
      "execution_count": 34,
      "metadata": {
        "colab": {
          "base_uri": "https://localhost:8080/"
        },
        "id": "Rv6_NHqDw6C1",
        "outputId": "d96e998b-e8b3-4c38-c609-3e57fe19df2c"
      },
      "outputs": [
        {
          "output_type": "execute_result",
          "data": {
            "text/plain": [
              "array([[ 10,  13],\n",
              "       [ 28,  40],\n",
              "       [ 46,  67],\n",
              "       [ 64,  94],\n",
              "       [ 82, 121]])"
            ]
          },
          "metadata": {},
          "execution_count": 34
        }
      ],
      "source": [
        "x = np.arange(15).reshape((5, 3))\n",
        "y = np.arange(6).reshape((3, 2))\n",
        "np.dot(x, y)"
      ]
    },
    {
      "cell_type": "markdown",
      "metadata": {
        "id": "VT2N8ISVw6C1"
      },
      "source": [
        "#### 25. Given a 1D array, negate all elements which are between 3 and 8, in place. (★☆☆) \n",
        "(**hint**: >, <=)"
      ]
    },
    {
      "cell_type": "code",
      "execution_count": 50,
      "metadata": {
        "colab": {
          "base_uri": "https://localhost:8080/"
        },
        "id": "6uyFT-uOw6C1",
        "outputId": "c914182f-f777-4626-beca-485966fbcfda"
      },
      "outputs": [
        {
          "output_type": "stream",
          "name": "stdout",
          "text": [
            "[ 0  1  2 -1 -1 -1 -1 -1 -1  9 10]\n"
          ]
        }
      ],
      "source": [
        "z = np.arange(11)\n",
        "z[(z >= 3) & (z <= 8)] = -1\n",
        "print(z)\n"
      ]
    },
    {
      "cell_type": "markdown",
      "metadata": {
        "id": "3T0QwcU6w6C1"
      },
      "source": [
        "#### 26. What is the output of the following script? (★☆☆) \n",
        "(**hint**: np.sum)"
      ]
    },
    {
      "cell_type": "markdown",
      "metadata": {
        "id": "j9fymPjew6C1"
      },
      "source": [
        "```python\n",
        "# Author: Jake VanderPlas\n",
        "\n",
        "print(sum(range(5),-1))\n",
        "from numpy import *\n",
        "print(sum(range(5),-1))\n",
        "```"
      ]
    },
    {
      "cell_type": "code",
      "execution_count": 52,
      "metadata": {
        "colab": {
          "base_uri": "https://localhost:8080/"
        },
        "id": "k-2Ye_hew6C1",
        "outputId": "8b6862d4-ce5b-4e24-c5e5-1968f856ee2f"
      },
      "outputs": [
        {
          "output_type": "stream",
          "name": "stdout",
          "text": [
            "9\n",
            "10\n"
          ]
        }
      ],
      "source": [
        "print(sum(range(5),-1))\n",
        "from numpy import *\n",
        "print(sum(range(5),-1))"
      ]
    },
    {
      "cell_type": "markdown",
      "metadata": {
        "id": "rpcGqnhpw6C1"
      },
      "source": [
        "#### 27. Consider an integer vector Z, which of these expressions are legal? (★☆☆)"
      ]
    },
    {
      "cell_type": "markdown",
      "metadata": {
        "id": "jllNeCGqw6C1"
      },
      "source": [
        "```python\n",
        "Z**Z\n",
        "2 << Z >> 2\n",
        "Z <- Z\n",
        "1j*Z\n",
        "Z/1/1\n",
        "Z<Z>Z\n",
        "```"
      ]
    },
    {
      "cell_type": "code",
      "execution_count": 23,
      "metadata": {
        "colab": {
          "base_uri": "https://localhost:8080/",
          "height": 201
        },
        "id": "FUKAKeQTw6C2",
        "outputId": "9d35d6c4-d431-48e9-ba88-40c1044c91a6"
      },
      "outputs": [
        {
          "output_type": "error",
          "ename": "ValueError",
          "evalue": "ignored",
          "traceback": [
            "\u001b[0;31m---------------------------------------------------------------------------\u001b[0m",
            "\u001b[0;31mValueError\u001b[0m                                Traceback (most recent call last)",
            "\u001b[0;32m<ipython-input-23-008f26f772d4>\u001b[0m in \u001b[0;36m<module>\u001b[0;34m\u001b[0m\n\u001b[1;32m      5\u001b[0m \u001b[0;36m1j\u001b[0m\u001b[0;34m*\u001b[0m\u001b[0mZ\u001b[0m\u001b[0;34m\u001b[0m\u001b[0;34m\u001b[0m\u001b[0m\n\u001b[1;32m      6\u001b[0m \u001b[0mZ\u001b[0m\u001b[0;34m/\u001b[0m\u001b[0;36m1\u001b[0m\u001b[0;34m/\u001b[0m\u001b[0;36m1\u001b[0m\u001b[0;34m\u001b[0m\u001b[0;34m\u001b[0m\u001b[0m\n\u001b[0;32m----> 7\u001b[0;31m \u001b[0mZ\u001b[0m\u001b[0;34m<\u001b[0m\u001b[0mZ\u001b[0m\u001b[0;34m>\u001b[0m\u001b[0mZ\u001b[0m\u001b[0;34m\u001b[0m\u001b[0;34m\u001b[0m\u001b[0m\n\u001b[0m",
            "\u001b[0;31mValueError\u001b[0m: The truth value of an array with more than one element is ambiguous. Use a.any() or a.all()"
          ]
        }
      ],
      "source": [
        "Z = np.arange(3)\n",
        "Z**Z\n",
        "2 << Z >> 2\n",
        "Z <- Z\n",
        "1j*Z\n",
        "Z/1/1\n",
        "Z<Z>Z"
      ]
    },
    {
      "cell_type": "markdown",
      "metadata": {
        "id": "BtyC521zw6C2"
      },
      "source": [
        "#### 28. What are the result of the following expressions?"
      ]
    },
    {
      "cell_type": "markdown",
      "metadata": {
        "id": "pRkfvdaFw6C2"
      },
      "source": [
        "```python\n",
        "np.array(0) / np.array(0)\n",
        "np.array(0) // np.array(0)\n",
        "np.array([np.nan]).astype(int).astype(float)\n",
        "```"
      ]
    },
    {
      "cell_type": "code",
      "execution_count": 57,
      "metadata": {
        "colab": {
          "base_uri": "https://localhost:8080/"
        },
        "id": "0grmatGUw6C2",
        "outputId": "f8dcce8a-2c31-420c-d24c-c773be25d7b4"
      },
      "outputs": [
        {
          "output_type": "stream",
          "name": "stderr",
          "text": [
            "/usr/local/lib/python3.7/dist-packages/ipykernel_launcher.py:1: RuntimeWarning: invalid value encountered in true_divide\n",
            "  \"\"\"Entry point for launching an IPython kernel.\n",
            "/usr/local/lib/python3.7/dist-packages/ipykernel_launcher.py:2: RuntimeWarning: divide by zero encountered in floor_divide\n",
            "  \n"
          ]
        },
        {
          "output_type": "execute_result",
          "data": {
            "text/plain": [
              "array([-9.22337204e+18])"
            ]
          },
          "metadata": {},
          "execution_count": 57
        }
      ],
      "source": [
        "np.array(0) / np.array(0)\n",
        "np.array(0) // np.array(0)\n",
        "np.array([np.nan]).astype(int).astype(float)"
      ]
    },
    {
      "cell_type": "markdown",
      "metadata": {
        "id": "rd6loO1Kw6C2"
      },
      "source": [
        "#### 29. How to round away from zero a float array ? (★☆☆) \n",
        "(**hint**: np.uniform, np.copysign, np.ceil, np.abs)"
      ]
    },
    {
      "cell_type": "code",
      "execution_count": 10,
      "metadata": {
        "colab": {
          "base_uri": "https://localhost:8080/"
        },
        "id": "noBE3LNtw6C2",
        "outputId": "7005d3b3-f190-453d-8b6d-579b245a7b9f"
      },
      "outputs": [
        {
          "output_type": "stream",
          "name": "stdout",
          "text": [
            "[  2. -11. -20.  11.   6.  -6.  12. -17.  -6. -10.]\n"
          ]
        }
      ],
      "source": [
        "b = np.random.uniform(-20, +15, 10 )\n",
        "print(np.copysign(np.ceil(np.abs(b)), b))"
      ]
    },
    {
      "cell_type": "markdown",
      "metadata": {
        "id": "_OTmRIt1w6C2"
      },
      "source": [
        "#### 30. How to find common values between two arrays? (★☆☆) \n",
        "(**hint**: np.intersect1d)"
      ]
    },
    {
      "cell_type": "code",
      "execution_count": 16,
      "metadata": {
        "colab": {
          "base_uri": "https://localhost:8080/"
        },
        "id": "pmNYEQgTw6C2",
        "outputId": "f05c939b-1eb6-4c94-ce29-9fec88988781"
      },
      "outputs": [
        {
          "output_type": "stream",
          "name": "stdout",
          "text": [
            "[0 1 2 4]\n"
          ]
        }
      ],
      "source": [
        "x = np.random.randint(0,7,10)\n",
        "y = np.random.randint(0,5,15)\n",
        "print(np.intersect1d(x,y))"
      ]
    },
    {
      "cell_type": "markdown",
      "metadata": {
        "id": "IvplGipHw6C2"
      },
      "source": [
        "#### 31. How to ignore all numpy warnings (not recommended)? (★☆☆) \n",
        "(**hint**: np.seterr, np.errstate)"
      ]
    },
    {
      "cell_type": "code",
      "execution_count": 25,
      "metadata": {
        "colab": {
          "base_uri": "https://localhost:8080/"
        },
        "id": "8_U3Hw51w6C2",
        "outputId": "dd214798-3dee-4161-b996-8d8f5fafe736"
      },
      "outputs": [
        {
          "output_type": "stream",
          "name": "stderr",
          "text": [
            "/usr/local/lib/python3.7/dist-packages/numpy/lib/nanfunctions.py:1120: RuntimeWarning: All-NaN slice encountered\n",
            "  overwrite_input=overwrite_input)\n"
          ]
        },
        {
          "output_type": "execute_result",
          "data": {
            "text/plain": [
              "array([nan, nan, nan, nan, nan, nan, nan, nan, nan, nan])"
            ]
          },
          "metadata": {},
          "execution_count": 25
        }
      ],
      "source": [
        "df = np.random.random(1000).reshape(10,10,10) * np.nan\n",
        "np.seterr(all='ignore')\n",
        "np.nanmedian(df, axis=[1, 2])"
      ]
    },
    {
      "cell_type": "markdown",
      "metadata": {
        "id": "mAjjgp7pw6C2"
      },
      "source": [
        "#### 32. Is the following expressions true? (★☆☆) \n",
        "(**hint**: imaginary number)"
      ]
    },
    {
      "cell_type": "markdown",
      "metadata": {
        "id": "B6dUuGWqw6C3"
      },
      "source": [
        "```python\n",
        "np.sqrt(-1) == np.emath.sqrt(-1)\n",
        "```"
      ]
    },
    {
      "cell_type": "code",
      "execution_count": 26,
      "metadata": {
        "colab": {
          "base_uri": "https://localhost:8080/"
        },
        "id": "FN0J3Nh1w6C3",
        "outputId": "963b101c-ac2c-422f-f2de-5f8d5034ae5f"
      },
      "outputs": [
        {
          "output_type": "execute_result",
          "data": {
            "text/plain": [
              "False"
            ]
          },
          "metadata": {},
          "execution_count": 26
        }
      ],
      "source": [
        "np.sqrt(-1) == np.emath.sqrt(-1)"
      ]
    },
    {
      "cell_type": "markdown",
      "metadata": {
        "id": "BT0LMZMpw6C3"
      },
      "source": [
        "#### 33. How to get the dates of yesterday, today and tomorrow? (★☆☆) \n",
        "(**hint**: np.datetime64, np.timedelta64)"
      ]
    },
    {
      "cell_type": "code",
      "execution_count": 29,
      "metadata": {
        "collapsed": true,
        "id": "XLeVROXhw6C3"
      },
      "outputs": [],
      "source": [
        "yesterday = np.datetime64(\"today\") - np.timedelta64(1)\n",
        "today = np.datetime64('today')\n",
        "tomorrow = np.datetime64(\"today\") + np.timedelta64(1)"
      ]
    },
    {
      "cell_type": "markdown",
      "metadata": {
        "id": "B-3aX7jGw6C4"
      },
      "source": [
        "#### 34. How to get all the dates corresponding to the month of July 2016? (★★☆) \n",
        "(**hint**: np.arange(dtype=datetime64\\['D'\\]))"
      ]
    },
    {
      "cell_type": "code",
      "execution_count": 36,
      "metadata": {
        "colab": {
          "base_uri": "https://localhost:8080/"
        },
        "id": "SI8LoSCXw6C4",
        "outputId": "a4ddebf5-d505-441f-bc05-7bc943b42374"
      },
      "outputs": [
        {
          "output_type": "stream",
          "name": "stdout",
          "text": [
            "['2016-07-01' '2016-07-02' '2016-07-03' '2016-07-04' '2016-07-05'\n",
            " '2016-07-06' '2016-07-07' '2016-07-08' '2016-07-09' '2016-07-10'\n",
            " '2016-07-11' '2016-07-12' '2016-07-13' '2016-07-14' '2016-07-15'\n",
            " '2016-07-16' '2016-07-17' '2016-07-18' '2016-07-19' '2016-07-20'\n",
            " '2016-07-21' '2016-07-22' '2016-07-23' '2016-07-24' '2016-07-25'\n",
            " '2016-07-26' '2016-07-27' '2016-07-28' '2016-07-29' '2016-07-30'\n",
            " '2016-07-31']\n"
          ]
        }
      ],
      "source": [
        "df = np.arange(\"2016-07\", '2016-08', dtype = 'datetime64[D]')\n",
        "print(df)"
      ]
    },
    {
      "cell_type": "markdown",
      "metadata": {
        "id": "DfTir69Gw6C4"
      },
      "source": [
        "#### 35. How to compute ((A+B)\\*(-A/2)) in place (without copy)? (★★☆) \n",
        "(**hint**: np.add(out=), np.negative(out=), np.multiply(out=), np.divide(out=))"
      ]
    },
    {
      "cell_type": "code",
      "execution_count": 50,
      "metadata": {
        "colab": {
          "base_uri": "https://localhost:8080/"
        },
        "id": "Ppj6Dgvww6C4",
        "outputId": "c0874d73-9f3f-456b-b5c3-4f6c9daab55d"
      },
      "outputs": [
        {
          "output_type": "execute_result",
          "data": {
            "text/plain": [
              "array([-1.5, -1.5, -1.5])"
            ]
          },
          "metadata": {},
          "execution_count": 50
        }
      ],
      "source": [
        "a = np.ones(3)*1\n",
        "b = np.ones(3)*2\n",
        "np.add(a,b, out = b)\n",
        "np.divide(a,2, out =a)\n",
        "np.negative(a,out=a)\n",
        "np.multiply(a,b,out=a)"
      ]
    },
    {
      "cell_type": "markdown",
      "metadata": {
        "id": "wLUySDOYw6C4"
      },
      "source": [
        "#### 36. Extract the integer part of a random array using 5 different methods (★★☆) \n",
        "(**hint**: %, np.floor, np.ceil, astype, np.trunc)"
      ]
    },
    {
      "cell_type": "code",
      "execution_count": 59,
      "metadata": {
        "colab": {
          "base_uri": "https://localhost:8080/"
        },
        "id": "pAJh2Dxxw6C4",
        "outputId": "e38bfd7b-1119-4c51-e15a-da392e055461"
      },
      "outputs": [
        {
          "output_type": "stream",
          "name": "stdout",
          "text": [
            "[5. 8. 6. 6. 0. 1. 8. 4. 3. 7.]\n",
            "[5. 8. 6. 6. 0. 1. 8. 4. 3. 7.]\n",
            "[6. 9. 7. 7. 1. 2. 9. 5. 4. 8.]\n",
            "[5 8 6 6 0 1 8 4 3 7]\n",
            "[5. 8. 6. 6. 0. 1. 8. 4. 3. 7.]\n"
          ]
        }
      ],
      "source": [
        "df = np.random.uniform(0,10,10)\n",
        "print(df - df%1)\n",
        "print(np.floor(df))\n",
        "print(np.ceil(df))\n",
        "print(df.astype(int))\n",
        "print(np.trunc(df))"
      ]
    },
    {
      "cell_type": "markdown",
      "metadata": {
        "id": "C9tYF86Vw6C4"
      },
      "source": [
        "#### 37. Create a 5x5 matrix with row values ranging from 0 to 4 (★★☆) \n",
        "(**hint**: np.arange)"
      ]
    },
    {
      "cell_type": "code",
      "execution_count": 60,
      "metadata": {
        "colab": {
          "base_uri": "https://localhost:8080/"
        },
        "id": "VQkXjqYXw6C4",
        "outputId": "3ef39962-e4c3-4bd4-b6ae-9d93eb37395e"
      },
      "outputs": [
        {
          "output_type": "stream",
          "name": "stdout",
          "text": [
            "[[0. 1. 2. 3. 4.]\n",
            " [0. 1. 2. 3. 4.]\n",
            " [0. 1. 2. 3. 4.]\n",
            " [0. 1. 2. 3. 4.]\n",
            " [0. 1. 2. 3. 4.]]\n"
          ]
        }
      ],
      "source": [
        "df = np.zeros((5,5))\n",
        "df += np.arange(5)\n",
        "print(df)"
      ]
    },
    {
      "cell_type": "markdown",
      "metadata": {
        "id": "hawOEgUkw6C4"
      },
      "source": [
        "#### 38. Consider a generator function that generates 10 integers and use it to build an array (★☆☆) \n",
        "(**hint**: np.fromiter)"
      ]
    },
    {
      "cell_type": "code",
      "execution_count": 63,
      "metadata": {
        "colab": {
          "base_uri": "https://localhost:8080/"
        },
        "id": "ZKrpSFHcw6C5",
        "outputId": "dfd4672d-8c5c-468e-93d2-362f3b865c7b"
      },
      "outputs": [
        {
          "output_type": "stream",
          "name": "stdout",
          "text": [
            "[0. 1. 2. 3. 4. 5. 6. 7. 8. 9.]\n"
          ]
        }
      ],
      "source": [
        "def generate():\n",
        "  for i in range(10):\n",
        "    yield i\n",
        "z = np.fromiter(generate(),dtype=float,count=-1)\n",
        "print(z)\n"
      ]
    },
    {
      "cell_type": "markdown",
      "metadata": {
        "id": "FfmiS90ow6C5"
      },
      "source": [
        "#### 39. Create a vector of size 10 with values ranging from 0 to 1, both excluded (★★☆) \n",
        "(**hint**: np.linspace)"
      ]
    },
    {
      "cell_type": "code",
      "execution_count": 67,
      "metadata": {
        "colab": {
          "base_uri": "https://localhost:8080/"
        },
        "id": "cvoMv8V6w6C5",
        "outputId": "6bd0cca1-c51e-401e-cf9a-0cada3f1a605"
      },
      "outputs": [
        {
          "output_type": "stream",
          "name": "stdout",
          "text": [
            "[0.09090909 0.18181818 0.27272727 0.36363636 0.45454545 0.54545455\n",
            " 0.63636364 0.72727273 0.81818182 0.90909091]\n"
          ]
        }
      ],
      "source": [
        "\n",
        "Z = np.linspace(0,1,11,endpoint=False)[1:]\n",
        "print(Z)"
      ]
    },
    {
      "cell_type": "markdown",
      "metadata": {
        "id": "a-9nNqM_w6C5"
      },
      "source": [
        "#### 40. Create a random vector of size 10 and sort it (★★☆) \n",
        "(**hint**: sort)"
      ]
    },
    {
      "cell_type": "code",
      "execution_count": 66,
      "metadata": {
        "colab": {
          "base_uri": "https://localhost:8080/"
        },
        "id": "AfGinacjw6C5",
        "outputId": "9ccfb11e-4e7e-4cdc-afaa-97deb2205f94"
      },
      "outputs": [
        {
          "output_type": "stream",
          "name": "stdout",
          "text": [
            "[0.02030913 0.07165773 0.11971795 0.18802059 0.41721462 0.48298552\n",
            " 0.50326258 0.75946291 0.78004459 0.78795627]\n"
          ]
        }
      ],
      "source": [
        "df = np.random.random(10)\n",
        "df.sort()\n",
        "print(df)"
      ]
    },
    {
      "cell_type": "markdown",
      "metadata": {
        "id": "k51QJvb2w6C5"
      },
      "source": [
        "#### 41. How to sum a small array faster than np.sum? (★★☆) \n",
        "(**hint**: np.add.reduce)"
      ]
    },
    {
      "cell_type": "code",
      "execution_count": 68,
      "metadata": {
        "colab": {
          "base_uri": "https://localhost:8080/"
        },
        "id": "KuW-4vzpw6C5",
        "outputId": "334beca5-c145-49e1-9156-cf1dcd1ff05f"
      },
      "outputs": [
        {
          "output_type": "execute_result",
          "data": {
            "text/plain": [
              "45"
            ]
          },
          "metadata": {},
          "execution_count": 68
        }
      ],
      "source": [
        "df = np.arange(10)\n",
        "np.add.reduce(df)"
      ]
    },
    {
      "cell_type": "markdown",
      "metadata": {
        "id": "pRIQThfQw6C5"
      },
      "source": [
        "#### 42. Consider two random array A and B, check if they are equal (★★☆) \n",
        "(**hint**: np.allclose, np.array\\_equal)"
      ]
    },
    {
      "cell_type": "code",
      "execution_count": 73,
      "metadata": {
        "colab": {
          "base_uri": "https://localhost:8080/"
        },
        "id": "hhxLpXeIw6C6",
        "outputId": "d2105081-5b35-40cf-ca11-ed050792f59d"
      },
      "outputs": [
        {
          "output_type": "stream",
          "name": "stdout",
          "text": [
            "False\n",
            "False\n"
          ]
        }
      ],
      "source": [
        "a = np.random.randint(0,4,5)\n",
        "b = np.random.randint(0,4,5)\n",
        "c = np.allclose(a,b)\n",
        "print(c)\n",
        "d = np.array_equal(a,b)\n",
        "print(d)"
      ]
    },
    {
      "cell_type": "markdown",
      "metadata": {
        "id": "mHTGcc-Pw6C6"
      },
      "source": [
        "#### 43. Make an array immutable (read-only) (★★☆) \n",
        "(**hint**: flags.writeable)"
      ]
    },
    {
      "cell_type": "code",
      "execution_count": null,
      "metadata": {
        "id": "Cm4wbxDjw6C6"
      },
      "outputs": [],
      "source": [
        "Z = np.zeros(10)\n",
        "Z.flags.writeable = False\n",
        "Z[0] = 1"
      ]
    },
    {
      "cell_type": "markdown",
      "metadata": {
        "id": "ZKJOf3Pww6C6"
      },
      "source": [
        "#### 44. Consider a random 10x2 matrix representing cartesian coordinates, convert them to polar coordinates (★★☆) \n",
        "(**hint**: np.sqrt, np.arctan2)"
      ]
    },
    {
      "cell_type": "code",
      "execution_count": 81,
      "metadata": {
        "colab": {
          "base_uri": "https://localhost:8080/"
        },
        "id": "NSKlvlFLw6C6",
        "outputId": "b30a9284-fa47-4253-9014-26212e81cd26"
      },
      "outputs": [
        {
          "output_type": "stream",
          "name": "stdout",
          "text": [
            "[1.00925313 0.54742594 0.95199522 0.62446746 0.71963778 0.84631678\n",
            " 1.08331198 0.90787288 0.56736345 0.73859734]\n",
            "[1.00761787 0.02938872 0.72287658 0.10260349 0.68621758 0.80253862\n",
            " 1.15919285 0.15712543 0.67771465 0.31667016]\n"
          ]
        }
      ],
      "source": [
        "a = np.random.random((10,2))\n",
        "b,c = a[:,0],a[:,1]\n",
        "d = np.sqrt(b**2+c**2)\n",
        "e = np.arctan2(c,b)\n",
        "print(d)\n",
        "print(e)"
      ]
    },
    {
      "cell_type": "markdown",
      "metadata": {
        "id": "lfGLIwSuw6C6"
      },
      "source": [
        "#### 45. Create random vector of size 10 and replace the maximum value by 0 (★★☆) \n",
        "(**hint**: argmax)"
      ]
    },
    {
      "cell_type": "code",
      "execution_count": 84,
      "metadata": {
        "colab": {
          "base_uri": "https://localhost:8080/"
        },
        "id": "TWCE8mWvw6C6",
        "outputId": "b29b2749-8df8-4729-b23a-2704fda8f18a"
      },
      "outputs": [
        {
          "output_type": "stream",
          "name": "stdout",
          "text": [
            "[0.         0.02358957 0.69974722 0.56433609 0.17208983 0.01257348\n",
            " 0.36183585 0.56571927 0.30906377 0.86822065]\n"
          ]
        }
      ],
      "source": [
        "s = np.random.random(10)\n",
        "s[s.argmax()] = 0\n",
        "print(s)"
      ]
    },
    {
      "cell_type": "markdown",
      "metadata": {
        "id": "dPenQvsOw6C6"
      },
      "source": [
        "#### 46. Create a structured array with `x` and `y` coordinates covering the \\[0,1\\]x\\[0,1\\] area (★★☆) \n",
        "(**hint**: np.meshgrid)"
      ]
    },
    {
      "cell_type": "code",
      "execution_count": 25,
      "metadata": {
        "colab": {
          "base_uri": "https://localhost:8080/"
        },
        "id": "8JR6ywcsw6C6",
        "outputId": "a90723a5-f1b9-497f-eebd-71365f8fd18a"
      },
      "outputs": [
        {
          "output_type": "stream",
          "name": "stdout",
          "text": [
            "[[(0.  , 0.  ) (0.25, 0.  ) (0.5 , 0.  ) (0.75, 0.  ) (1.  , 0.  )]\n",
            " [(0.  , 0.25) (0.25, 0.25) (0.5 , 0.25) (0.75, 0.25) (1.  , 0.25)]\n",
            " [(0.  , 0.5 ) (0.25, 0.5 ) (0.5 , 0.5 ) (0.75, 0.5 ) (1.  , 0.5 )]\n",
            " [(0.  , 0.75) (0.25, 0.75) (0.5 , 0.75) (0.75, 0.75) (1.  , 0.75)]\n",
            " [(0.  , 1.  ) (0.25, 1.  ) (0.5 , 1.  ) (0.75, 1.  ) (1.  , 1.  )]]\n"
          ]
        }
      ],
      "source": [
        "Z = np.zeros((5,5), [('x',float),('y',float)])\n",
        "Z['x'], Z['y'] = np.meshgrid(np.linspace(0,1,5),\n",
        "                             np.linspace(0,1,5))\n",
        "print(Z)"
      ]
    },
    {
      "cell_type": "markdown",
      "metadata": {
        "id": "nMrjQke9w6C6"
      },
      "source": [
        "####  47. Given two arrays, X and Y, construct the Cauchy matrix C (Cij =1/(xi - yj)) \n",
        "(**hint**: np.subtract.outer)"
      ]
    },
    {
      "cell_type": "code",
      "execution_count": 26,
      "metadata": {
        "colab": {
          "base_uri": "https://localhost:8080/"
        },
        "id": "Grpw1iQzw6C6",
        "outputId": "bd518e19-5288-4cab-a585-fec754d84aef"
      },
      "outputs": [
        {
          "output_type": "stream",
          "name": "stdout",
          "text": [
            "3638.163637117973\n"
          ]
        }
      ],
      "source": [
        "X = np.arange(8)\n",
        "Y = X + 0.5\n",
        "C = 1.0 / np.subtract.outer(X, Y)\n",
        "print(np.linalg.det(C))"
      ]
    },
    {
      "cell_type": "markdown",
      "metadata": {
        "id": "nEL3kwkKw6C6"
      },
      "source": [
        "#### 48. Print the minimum and maximum representable value for each numpy scalar type (★★☆) \n",
        "(**hint**: np.iinfo, np.finfo, eps)"
      ]
    },
    {
      "cell_type": "code",
      "execution_count": 90,
      "metadata": {
        "colab": {
          "base_uri": "https://localhost:8080/"
        },
        "id": "-gpTDuS6w6C7",
        "outputId": "83cc09c2-eb72-44d7-da13-0789cbe7e13e"
      },
      "outputs": [
        {
          "output_type": "stream",
          "name": "stdout",
          "text": [
            "-128\n",
            "127\n",
            "-2147483648\n",
            "2147483647\n",
            "-9223372036854775808\n",
            "9223372036854775807\n",
            "-3.4028235e+38\n",
            "3.4028235e+38\n",
            "1.1920929e-07\n",
            "-1.7976931348623157e+308\n",
            "1.7976931348623157e+308\n",
            "2.220446049250313e-16\n"
          ]
        }
      ],
      "source": [
        "for dtype in [np.int8, np.int32, np.int64]:\n",
        "   print(np.iinfo(dtype).min)\n",
        "   print(np.iinfo(dtype).max)\n",
        "for dtype in [np.float32, np.float64]:\n",
        "  print(np.finfo(dtype).min)\n",
        "  print(np.finfo(dtype).max)\n",
        "  print(np.finfo(dtype).eps)"
      ]
    },
    {
      "cell_type": "markdown",
      "metadata": {
        "id": "rN73fUfqw6C7"
      },
      "source": [
        "#### 49. How to print all the values of an array? (★★☆) \n",
        "(**hint**: np.set\\_printoptions)"
      ]
    },
    {
      "cell_type": "code",
      "execution_count": 91,
      "metadata": {
        "colab": {
          "base_uri": "https://localhost:8080/"
        },
        "id": "1vLEMLJkw6C7",
        "outputId": "ce08b214-43a6-46e1-fd6e-9d6178cfcec3"
      },
      "outputs": [
        {
          "output_type": "stream",
          "name": "stdout",
          "text": [
            "[[0. 0. 0. 0. 0. 0. 0. 0. 0. 0. 0. 0. 0. 0. 0. 0. 0. 0. 0. 0. 0. 0. 0. 0.\n",
            "  0. 0. 0. 0. 0. 0. 0. 0. 0. 0. 0. 0. 0. 0. 0. 0.]\n",
            " [0. 0. 0. 0. 0. 0. 0. 0. 0. 0. 0. 0. 0. 0. 0. 0. 0. 0. 0. 0. 0. 0. 0. 0.\n",
            "  0. 0. 0. 0. 0. 0. 0. 0. 0. 0. 0. 0. 0. 0. 0. 0.]\n",
            " [0. 0. 0. 0. 0. 0. 0. 0. 0. 0. 0. 0. 0. 0. 0. 0. 0. 0. 0. 0. 0. 0. 0. 0.\n",
            "  0. 0. 0. 0. 0. 0. 0. 0. 0. 0. 0. 0. 0. 0. 0. 0.]\n",
            " [0. 0. 0. 0. 0. 0. 0. 0. 0. 0. 0. 0. 0. 0. 0. 0. 0. 0. 0. 0. 0. 0. 0. 0.\n",
            "  0. 0. 0. 0. 0. 0. 0. 0. 0. 0. 0. 0. 0. 0. 0. 0.]\n",
            " [0. 0. 0. 0. 0. 0. 0. 0. 0. 0. 0. 0. 0. 0. 0. 0. 0. 0. 0. 0. 0. 0. 0. 0.\n",
            "  0. 0. 0. 0. 0. 0. 0. 0. 0. 0. 0. 0. 0. 0. 0. 0.]\n",
            " [0. 0. 0. 0. 0. 0. 0. 0. 0. 0. 0. 0. 0. 0. 0. 0. 0. 0. 0. 0. 0. 0. 0. 0.\n",
            "  0. 0. 0. 0. 0. 0. 0. 0. 0. 0. 0. 0. 0. 0. 0. 0.]\n",
            " [0. 0. 0. 0. 0. 0. 0. 0. 0. 0. 0. 0. 0. 0. 0. 0. 0. 0. 0. 0. 0. 0. 0. 0.\n",
            "  0. 0. 0. 0. 0. 0. 0. 0. 0. 0. 0. 0. 0. 0. 0. 0.]\n",
            " [0. 0. 0. 0. 0. 0. 0. 0. 0. 0. 0. 0. 0. 0. 0. 0. 0. 0. 0. 0. 0. 0. 0. 0.\n",
            "  0. 0. 0. 0. 0. 0. 0. 0. 0. 0. 0. 0. 0. 0. 0. 0.]\n",
            " [0. 0. 0. 0. 0. 0. 0. 0. 0. 0. 0. 0. 0. 0. 0. 0. 0. 0. 0. 0. 0. 0. 0. 0.\n",
            "  0. 0. 0. 0. 0. 0. 0. 0. 0. 0. 0. 0. 0. 0. 0. 0.]\n",
            " [0. 0. 0. 0. 0. 0. 0. 0. 0. 0. 0. 0. 0. 0. 0. 0. 0. 0. 0. 0. 0. 0. 0. 0.\n",
            "  0. 0. 0. 0. 0. 0. 0. 0. 0. 0. 0. 0. 0. 0. 0. 0.]\n",
            " [0. 0. 0. 0. 0. 0. 0. 0. 0. 0. 0. 0. 0. 0. 0. 0. 0. 0. 0. 0. 0. 0. 0. 0.\n",
            "  0. 0. 0. 0. 0. 0. 0. 0. 0. 0. 0. 0. 0. 0. 0. 0.]\n",
            " [0. 0. 0. 0. 0. 0. 0. 0. 0. 0. 0. 0. 0. 0. 0. 0. 0. 0. 0. 0. 0. 0. 0. 0.\n",
            "  0. 0. 0. 0. 0. 0. 0. 0. 0. 0. 0. 0. 0. 0. 0. 0.]\n",
            " [0. 0. 0. 0. 0. 0. 0. 0. 0. 0. 0. 0. 0. 0. 0. 0. 0. 0. 0. 0. 0. 0. 0. 0.\n",
            "  0. 0. 0. 0. 0. 0. 0. 0. 0. 0. 0. 0. 0. 0. 0. 0.]\n",
            " [0. 0. 0. 0. 0. 0. 0. 0. 0. 0. 0. 0. 0. 0. 0. 0. 0. 0. 0. 0. 0. 0. 0. 0.\n",
            "  0. 0. 0. 0. 0. 0. 0. 0. 0. 0. 0. 0. 0. 0. 0. 0.]\n",
            " [0. 0. 0. 0. 0. 0. 0. 0. 0. 0. 0. 0. 0. 0. 0. 0. 0. 0. 0. 0. 0. 0. 0. 0.\n",
            "  0. 0. 0. 0. 0. 0. 0. 0. 0. 0. 0. 0. 0. 0. 0. 0.]\n",
            " [0. 0. 0. 0. 0. 0. 0. 0. 0. 0. 0. 0. 0. 0. 0. 0. 0. 0. 0. 0. 0. 0. 0. 0.\n",
            "  0. 0. 0. 0. 0. 0. 0. 0. 0. 0. 0. 0. 0. 0. 0. 0.]\n",
            " [0. 0. 0. 0. 0. 0. 0. 0. 0. 0. 0. 0. 0. 0. 0. 0. 0. 0. 0. 0. 0. 0. 0. 0.\n",
            "  0. 0. 0. 0. 0. 0. 0. 0. 0. 0. 0. 0. 0. 0. 0. 0.]\n",
            " [0. 0. 0. 0. 0. 0. 0. 0. 0. 0. 0. 0. 0. 0. 0. 0. 0. 0. 0. 0. 0. 0. 0. 0.\n",
            "  0. 0. 0. 0. 0. 0. 0. 0. 0. 0. 0. 0. 0. 0. 0. 0.]\n",
            " [0. 0. 0. 0. 0. 0. 0. 0. 0. 0. 0. 0. 0. 0. 0. 0. 0. 0. 0. 0. 0. 0. 0. 0.\n",
            "  0. 0. 0. 0. 0. 0. 0. 0. 0. 0. 0. 0. 0. 0. 0. 0.]\n",
            " [0. 0. 0. 0. 0. 0. 0. 0. 0. 0. 0. 0. 0. 0. 0. 0. 0. 0. 0. 0. 0. 0. 0. 0.\n",
            "  0. 0. 0. 0. 0. 0. 0. 0. 0. 0. 0. 0. 0. 0. 0. 0.]\n",
            " [0. 0. 0. 0. 0. 0. 0. 0. 0. 0. 0. 0. 0. 0. 0. 0. 0. 0. 0. 0. 0. 0. 0. 0.\n",
            "  0. 0. 0. 0. 0. 0. 0. 0. 0. 0. 0. 0. 0. 0. 0. 0.]\n",
            " [0. 0. 0. 0. 0. 0. 0. 0. 0. 0. 0. 0. 0. 0. 0. 0. 0. 0. 0. 0. 0. 0. 0. 0.\n",
            "  0. 0. 0. 0. 0. 0. 0. 0. 0. 0. 0. 0. 0. 0. 0. 0.]\n",
            " [0. 0. 0. 0. 0. 0. 0. 0. 0. 0. 0. 0. 0. 0. 0. 0. 0. 0. 0. 0. 0. 0. 0. 0.\n",
            "  0. 0. 0. 0. 0. 0. 0. 0. 0. 0. 0. 0. 0. 0. 0. 0.]\n",
            " [0. 0. 0. 0. 0. 0. 0. 0. 0. 0. 0. 0. 0. 0. 0. 0. 0. 0. 0. 0. 0. 0. 0. 0.\n",
            "  0. 0. 0. 0. 0. 0. 0. 0. 0. 0. 0. 0. 0. 0. 0. 0.]\n",
            " [0. 0. 0. 0. 0. 0. 0. 0. 0. 0. 0. 0. 0. 0. 0. 0. 0. 0. 0. 0. 0. 0. 0. 0.\n",
            "  0. 0. 0. 0. 0. 0. 0. 0. 0. 0. 0. 0. 0. 0. 0. 0.]\n",
            " [0. 0. 0. 0. 0. 0. 0. 0. 0. 0. 0. 0. 0. 0. 0. 0. 0. 0. 0. 0. 0. 0. 0. 0.\n",
            "  0. 0. 0. 0. 0. 0. 0. 0. 0. 0. 0. 0. 0. 0. 0. 0.]\n",
            " [0. 0. 0. 0. 0. 0. 0. 0. 0. 0. 0. 0. 0. 0. 0. 0. 0. 0. 0. 0. 0. 0. 0. 0.\n",
            "  0. 0. 0. 0. 0. 0. 0. 0. 0. 0. 0. 0. 0. 0. 0. 0.]\n",
            " [0. 0. 0. 0. 0. 0. 0. 0. 0. 0. 0. 0. 0. 0. 0. 0. 0. 0. 0. 0. 0. 0. 0. 0.\n",
            "  0. 0. 0. 0. 0. 0. 0. 0. 0. 0. 0. 0. 0. 0. 0. 0.]\n",
            " [0. 0. 0. 0. 0. 0. 0. 0. 0. 0. 0. 0. 0. 0. 0. 0. 0. 0. 0. 0. 0. 0. 0. 0.\n",
            "  0. 0. 0. 0. 0. 0. 0. 0. 0. 0. 0. 0. 0. 0. 0. 0.]\n",
            " [0. 0. 0. 0. 0. 0. 0. 0. 0. 0. 0. 0. 0. 0. 0. 0. 0. 0. 0. 0. 0. 0. 0. 0.\n",
            "  0. 0. 0. 0. 0. 0. 0. 0. 0. 0. 0. 0. 0. 0. 0. 0.]\n",
            " [0. 0. 0. 0. 0. 0. 0. 0. 0. 0. 0. 0. 0. 0. 0. 0. 0. 0. 0. 0. 0. 0. 0. 0.\n",
            "  0. 0. 0. 0. 0. 0. 0. 0. 0. 0. 0. 0. 0. 0. 0. 0.]\n",
            " [0. 0. 0. 0. 0. 0. 0. 0. 0. 0. 0. 0. 0. 0. 0. 0. 0. 0. 0. 0. 0. 0. 0. 0.\n",
            "  0. 0. 0. 0. 0. 0. 0. 0. 0. 0. 0. 0. 0. 0. 0. 0.]\n",
            " [0. 0. 0. 0. 0. 0. 0. 0. 0. 0. 0. 0. 0. 0. 0. 0. 0. 0. 0. 0. 0. 0. 0. 0.\n",
            "  0. 0. 0. 0. 0. 0. 0. 0. 0. 0. 0. 0. 0. 0. 0. 0.]\n",
            " [0. 0. 0. 0. 0. 0. 0. 0. 0. 0. 0. 0. 0. 0. 0. 0. 0. 0. 0. 0. 0. 0. 0. 0.\n",
            "  0. 0. 0. 0. 0. 0. 0. 0. 0. 0. 0. 0. 0. 0. 0. 0.]\n",
            " [0. 0. 0. 0. 0. 0. 0. 0. 0. 0. 0. 0. 0. 0. 0. 0. 0. 0. 0. 0. 0. 0. 0. 0.\n",
            "  0. 0. 0. 0. 0. 0. 0. 0. 0. 0. 0. 0. 0. 0. 0. 0.]\n",
            " [0. 0. 0. 0. 0. 0. 0. 0. 0. 0. 0. 0. 0. 0. 0. 0. 0. 0. 0. 0. 0. 0. 0. 0.\n",
            "  0. 0. 0. 0. 0. 0. 0. 0. 0. 0. 0. 0. 0. 0. 0. 0.]\n",
            " [0. 0. 0. 0. 0. 0. 0. 0. 0. 0. 0. 0. 0. 0. 0. 0. 0. 0. 0. 0. 0. 0. 0. 0.\n",
            "  0. 0. 0. 0. 0. 0. 0. 0. 0. 0. 0. 0. 0. 0. 0. 0.]\n",
            " [0. 0. 0. 0. 0. 0. 0. 0. 0. 0. 0. 0. 0. 0. 0. 0. 0. 0. 0. 0. 0. 0. 0. 0.\n",
            "  0. 0. 0. 0. 0. 0. 0. 0. 0. 0. 0. 0. 0. 0. 0. 0.]\n",
            " [0. 0. 0. 0. 0. 0. 0. 0. 0. 0. 0. 0. 0. 0. 0. 0. 0. 0. 0. 0. 0. 0. 0. 0.\n",
            "  0. 0. 0. 0. 0. 0. 0. 0. 0. 0. 0. 0. 0. 0. 0. 0.]\n",
            " [0. 0. 0. 0. 0. 0. 0. 0. 0. 0. 0. 0. 0. 0. 0. 0. 0. 0. 0. 0. 0. 0. 0. 0.\n",
            "  0. 0. 0. 0. 0. 0. 0. 0. 0. 0. 0. 0. 0. 0. 0. 0.]]\n"
          ]
        }
      ],
      "source": [
        "np.set_printoptions(threshold=float(\"inf\"))\n",
        "x = np.zeros((40,40))\n",
        "print(x)"
      ]
    },
    {
      "cell_type": "markdown",
      "metadata": {
        "id": "3M2y8MxDw6C7"
      },
      "source": [
        "#### 50. How to find the closest value (to a given scalar) in a vector? (★★☆) \n",
        "(**hint**: argmin)"
      ]
    },
    {
      "cell_type": "code",
      "execution_count": 4,
      "metadata": {
        "colab": {
          "base_uri": "https://localhost:8080/"
        },
        "id": "BoguGU7Zw6C7",
        "outputId": "d795d47b-6ecd-4e5a-ffb2-d325b086ee52"
      },
      "outputs": [
        {
          "output_type": "stream",
          "name": "stdout",
          "text": [
            "98\n"
          ]
        }
      ],
      "source": [
        "a = np.arange(100)\n",
        "b = np.random.uniform(0,100)\n",
        "index = (np.abs(a-b)).argmin()\n",
        "print(a[index])"
      ]
    },
    {
      "cell_type": "markdown",
      "metadata": {
        "id": "cfdFswNOw6C7"
      },
      "source": [
        "#### 51. Create a structured array representing a position (x,y) and a color (r,g,b) (★★☆) \n",
        "(**hint**: dtype)"
      ]
    },
    {
      "cell_type": "code",
      "execution_count": 5,
      "metadata": {
        "colab": {
          "base_uri": "https://localhost:8080/"
        },
        "id": "bATsstWgw6C7",
        "outputId": "754cec26-5d85-4a02-ca0f-f749067fcd2f"
      },
      "outputs": [
        {
          "output_type": "stream",
          "name": "stdout",
          "text": [
            "[((0., 0.), (0., 0., 0.)) ((0., 0.), (0., 0., 0.))\n",
            " ((0., 0.), (0., 0., 0.)) ((0., 0.), (0., 0., 0.))\n",
            " ((0., 0.), (0., 0., 0.)) ((0., 0.), (0., 0., 0.))\n",
            " ((0., 0.), (0., 0., 0.)) ((0., 0.), (0., 0., 0.))\n",
            " ((0., 0.), (0., 0., 0.)) ((0., 0.), (0., 0., 0.))]\n"
          ]
        },
        {
          "output_type": "stream",
          "name": "stderr",
          "text": [
            "/usr/local/lib/python3.7/dist-packages/ipykernel_launcher.py:2: FutureWarning: Passing (type, 1) or '1type' as a synonym of type is deprecated; in a future version of numpy, it will be understood as (type, (1,)) / '(1,)type'.\n",
            "  \n"
          ]
        }
      ],
      "source": [
        "a = np.zeros(10,[('position',[('x', float,1),('y', float, 1)]),\n",
        "                 ('color',[('r', float,1),('g',float,1),('b',float,1)])])\n",
        "print(a)"
      ]
    },
    {
      "cell_type": "markdown",
      "metadata": {
        "id": "7s1L7ZWEw6C7"
      },
      "source": [
        "#### 52. Consider a random vector with shape (100,2) representing coordinates, find point by point distances (★★☆) \n",
        "(**hint**: np.atleast\\_2d, T, np.sqrt)"
      ]
    },
    {
      "cell_type": "code",
      "execution_count": 10,
      "metadata": {
        "colab": {
          "base_uri": "https://localhost:8080/"
        },
        "id": "0FDc1m40w6C7",
        "outputId": "e8b051de-7e93-47d9-cc5b-03c736f52462"
      },
      "outputs": [
        {
          "output_type": "stream",
          "name": "stdout",
          "text": [
            "[[0.         1.16360116 0.96160454 0.91439525 0.64552044 0.59825043\n",
            "  1.01550491 0.1442258  0.78346608 0.39326662]\n",
            " [       nan 0.                nan        nan 0.64350915 0.68614222\n",
            "         nan 0.21519742 0.77612661        nan]\n",
            " [       nan 0.51209418 0.                nan 0.68206224 0.70982651\n",
            "         nan 0.30499885 0.80923465        nan]\n",
            " [0.27061614 0.5947765  0.30362253 0.         0.74919115 0.77480437\n",
            "         nan 0.43496849 0.86655024        nan]\n",
            " [       nan 1.01346161 0.76463034 0.70454182 0.                nan\n",
            "  0.84256689        nan 0.44464708        nan]\n",
            " [       nan 1.10781548 0.87565284 0.82394003 0.27747774 0.\n",
            "  0.95794242        nan 0.5248922         nan]\n",
            " [0.63858618 0.64140531 0.43942377 0.31618385 0.95616674 0.98920472\n",
            "  0.         0.74047705 1.04973418        nan]\n",
            " [       nan 1.20642479 1.00430344 0.95939556 0.63117892 0.57389558\n",
            "  1.06776441 0.         0.77220089 0.44020851]\n",
            " [       nan 0.90554555 0.61559011 0.53911124        nan        nan\n",
            "  0.70869302        nan 0.                nan]\n",
            " [0.30991175 0.94147985 0.73834945 0.67430964 0.74176106 0.73673766\n",
            "  0.72570736 0.40842812 0.86220279 0.        ]]\n"
          ]
        },
        {
          "output_type": "stream",
          "name": "stderr",
          "text": [
            "/usr/local/lib/python3.7/dist-packages/ipykernel_launcher.py:3: RuntimeWarning: invalid value encountered in sqrt\n",
            "  This is separate from the ipykernel package so we can avoid doing imports until\n"
          ]
        }
      ],
      "source": [
        "a = np.random.random((10,2))\n",
        "x,y = np.atleast_2d(a[:,0],a[:,1])\n",
        "d = np.sqrt((x-x.T)**2 + (y-y.T))\n",
        "print(d)"
      ]
    },
    {
      "cell_type": "markdown",
      "metadata": {
        "id": "ajTiB3i1w6C7"
      },
      "source": [
        "#### 53. How to convert a float (32 bits) array into an integer (32 bits) in place? \n",
        "(**hint**: astype(copy=False))"
      ]
    },
    {
      "cell_type": "code",
      "execution_count": 11,
      "metadata": {
        "colab": {
          "base_uri": "https://localhost:8080/"
        },
        "id": "5-5Zqn9zw6C8",
        "outputId": "60269618-9077-4597-9934-1b2cad6c0ee5"
      },
      "outputs": [
        {
          "output_type": "stream",
          "name": "stdout",
          "text": [
            "[14  7 70 86 76 87 62 84 45 31]\n"
          ]
        }
      ],
      "source": [
        "Z = (np.random.rand(10)*100).astype(np.float32)\n",
        "Y = Z.view(np.int32)\n",
        "Y[:] = Z\n",
        "print(Y)"
      ]
    },
    {
      "cell_type": "markdown",
      "metadata": {
        "id": "Bf-EnRAXw6C8"
      },
      "source": [
        "#### 54. How to read the following file? (★★☆) \n",
        "(**hint**: np.genfromtxt)"
      ]
    },
    {
      "cell_type": "markdown",
      "metadata": {
        "id": "wH6ecaFHw6C8"
      },
      "source": [
        "```\n",
        "1, 2, 3, 4, 5\n",
        "6,  ,  , 7, 8\n",
        " ,  , 9,10,11\n",
        "```"
      ]
    },
    {
      "cell_type": "code",
      "execution_count": 27,
      "metadata": {
        "colab": {
          "base_uri": "https://localhost:8080/"
        },
        "id": "DW3x8edmw6C8",
        "outputId": "ec43cb1e-13f1-4397-d3e6-b1c713a92f42"
      },
      "outputs": [
        {
          "output_type": "stream",
          "name": "stdout",
          "text": [
            "[[ 1  2  3  4  5]\n",
            " [ 6 -1 -1  7  8]\n",
            " [-1 -1  9 10 11]]\n"
          ]
        },
        {
          "output_type": "stream",
          "name": "stderr",
          "text": [
            "/usr/local/lib/python3.7/dist-packages/ipykernel_launcher.py:8: DeprecationWarning: `np.int` is a deprecated alias for the builtin `int`. To silence this warning, use `int` by itself. Doing this will not modify any behavior and is safe. When replacing `np.int`, you may wish to use e.g. `np.int64` or `np.int32` to specify the precision. If you wish to review your current use, check the release note link for additional information.\n",
            "Deprecated in NumPy 1.20; for more details and guidance: https://numpy.org/devdocs/release/1.20.0-notes.html#deprecations\n",
            "  \n"
          ]
        }
      ],
      "source": [
        "from io import StringIO\n",
        "\n",
        "# Fake file\n",
        "s = StringIO('''1, 2, 3, 4, 5\n",
        "                6,  ,  , 7, 8\n",
        "                 ,  , 9,10,11\n",
        "''')\n",
        "Z = np.genfromtxt(s, delimiter=\",\", dtype=np.int)\n",
        "print(Z)"
      ]
    },
    {
      "cell_type": "markdown",
      "metadata": {
        "id": "rGiytndUw6C8"
      },
      "source": [
        "#### 55. What is the equivalent of enumerate for numpy arrays? (★★☆) \n",
        "(**hint**: np.ndenumerate, np.ndindex)"
      ]
    },
    {
      "cell_type": "code",
      "execution_count": 38,
      "metadata": {
        "colab": {
          "base_uri": "https://localhost:8080/"
        },
        "id": "ZL1iut5bw6C8",
        "outputId": "0ade846d-e38d-4c8f-a357-4ef3d1ef671a"
      },
      "outputs": [
        {
          "output_type": "stream",
          "name": "stdout",
          "text": [
            "(0, 0) 0\n",
            "(0, 1) 1\n",
            "(0, 2) 2\n",
            "(0, 3) 3\n",
            "(1, 0) 4\n",
            "(1, 1) 5\n",
            "(1, 2) 6\n",
            "(1, 3) 7\n",
            "(2, 0) 8\n",
            "(2, 1) 9\n",
            "(2, 2) 10\n",
            "(2, 3) 11\n"
          ]
        }
      ],
      "source": [
        " x = np.arange(12).reshape(3,4)\n",
        " for index, value in np.ndenumerate(x):\n",
        "   print(index, value)"
      ]
    },
    {
      "cell_type": "markdown",
      "metadata": {
        "id": "igqdQDacw6C8"
      },
      "source": [
        "#### 56. Generate a generic 2D Gaussian-like array (★★☆) \n",
        "(**hint**: np.meshgrid, np.exp)"
      ]
    },
    {
      "cell_type": "code",
      "execution_count": 41,
      "metadata": {
        "colab": {
          "base_uri": "https://localhost:8080/"
        },
        "id": "PL1SSk_tw6C8",
        "outputId": "1a5b9d23-e762-4929-c74e-049ad3e800a4"
      },
      "outputs": [
        {
          "output_type": "stream",
          "name": "stdout",
          "text": [
            "[[0.36787944 0.36787944 0.36787944 0.36787944 0.36787944 0.36787944\n",
            "  0.36787944 0.36787944 0.36787944 0.36787944]\n",
            " [0.36787944 0.36787944 0.36787944 0.36787944 0.36787944 0.36787944\n",
            "  0.36787944 0.36787944 0.36787944 0.36787944]\n",
            " [0.36787944 0.36787944 0.36787944 0.36787944 0.36787944 0.36787944\n",
            "  0.36787944 0.36787944 0.36787944 0.36787944]\n",
            " [0.36787944 0.36787944 0.36787944 0.36787944 0.36787944 0.36787944\n",
            "  0.36787944 0.36787944 0.36787944 0.36787944]\n",
            " [0.36787944 0.36787944 0.36787944 0.36787944 0.36787944 0.36787944\n",
            "  0.36787944 0.36787944 0.36787944 0.36787944]\n",
            " [0.36787944 0.36787944 0.36787944 0.36787944 0.36787944 0.36787944\n",
            "  0.36787944 0.36787944 0.36787944 0.36787944]\n",
            " [0.36787944 0.36787944 0.36787944 0.36787944 0.36787944 0.36787944\n",
            "  0.36787944 0.36787944 0.36787944 0.36787944]\n",
            " [0.36787944 0.36787944 0.36787944 0.36787944 0.36787944 0.36787944\n",
            "  0.36787944 0.36787944 0.36787944 0.36787944]\n",
            " [0.36787944 0.36787944 0.36787944 0.36787944 0.36787944 0.36787944\n",
            "  0.36787944 0.36787944 0.36787944 0.36787944]\n",
            " [0.36787944 0.36787944 0.36787944 0.36787944 0.36787944 0.36787944\n",
            "  0.36787944 0.36787944 0.36787944 0.36787944]]\n"
          ]
        }
      ],
      "source": [
        "x,y =np.meshgrid(np.linspace(-1,-1,10),np.linspace(-1,-1,10))\n",
        "z = np.sqrt(x*x+y*y)\n",
        "sigma, mu = 1.0,0.0\n",
        "g = np.exp(-((z-mu)**2/(2.0* sigma**2)))\n",
        "print(g)"
      ]
    },
    {
      "cell_type": "markdown",
      "metadata": {
        "id": "wGMBPyeCw6C8"
      },
      "source": [
        "#### 57. How to randomly place p elements in a 2D array? (★★☆) \n",
        "(**hint**: np.put, np.random.choice)"
      ]
    },
    {
      "cell_type": "code",
      "execution_count": 46,
      "metadata": {
        "id": "22xb9lmFw6C8"
      },
      "outputs": [],
      "source": [
        "n = 5\n",
        "p = 3\n",
        "x = np.zeros((n,n),dtype=bool)\n",
        "np.put(x,np.random.choice(range(n*n), p, replace=False),1)\n"
      ]
    },
    {
      "cell_type": "markdown",
      "metadata": {
        "id": "Z8hUvd3pw6C8"
      },
      "source": [
        "#### 58. Subtract the mean of each row of a matrix (★★☆) \n",
        "(**hint**: mean(axis=,keepdims=))"
      ]
    },
    {
      "cell_type": "code",
      "source": [
        "a = np.random .rand(3,4)\n",
        "print(a)\n",
        "b = a-a.mean(axis=1,keepdims = True)\n",
        "print(b)"
      ],
      "metadata": {
        "colab": {
          "base_uri": "https://localhost:8080/"
        },
        "id": "BfNryanXC7aK",
        "outputId": "2398dbe3-2876-4b8a-d979-310ff934cd2c"
      },
      "execution_count": 49,
      "outputs": [
        {
          "output_type": "stream",
          "name": "stdout",
          "text": [
            "[[0.83473689 0.43844704 0.05110608 0.99379767]\n",
            " [0.53895503 0.29407652 0.5412044  0.88017615]\n",
            " [0.1493265  0.47358118 0.07087744 0.03596268]]\n",
            "[[ 0.25521497 -0.14107488 -0.52841584  0.41427575]\n",
            " [-0.024648   -0.2695265  -0.02239862  0.31657312]\n",
            " [-0.03311045  0.29114423 -0.11155951 -0.14647427]]\n"
          ]
        }
      ]
    },
    {
      "cell_type": "markdown",
      "metadata": {
        "id": "h4GCH6S4w6C9"
      },
      "source": [
        "#### 59. How to sort an array by the nth column? (★★☆) \n",
        "(**hint**: argsort)"
      ]
    },
    {
      "cell_type": "code",
      "execution_count": 51,
      "metadata": {
        "colab": {
          "base_uri": "https://localhost:8080/"
        },
        "id": "V6iYaieFw6C9",
        "outputId": "63a0c4cd-b2bf-448c-fa33-987e9629663f"
      },
      "outputs": [
        {
          "output_type": "stream",
          "name": "stdout",
          "text": [
            "[[5 6 4]\n",
            " [3 5 0]\n",
            " [8 9 0]]\n",
            "[[3 5 0]\n",
            " [5 6 4]\n",
            " [8 9 0]]\n"
          ]
        }
      ],
      "source": [
        "z = np.random.randint(0,10,(3,3))\n",
        "print(z)\n",
        "print(z[z[:,1].argsort()])"
      ]
    },
    {
      "cell_type": "markdown",
      "metadata": {
        "id": "_PeToya2w6C9"
      },
      "source": [
        "#### 60. How to tell if a given 2D array has null columns? (★★☆) \n",
        "(**hint**: any, ~)"
      ]
    },
    {
      "cell_type": "code",
      "execution_count": 55,
      "metadata": {
        "colab": {
          "base_uri": "https://localhost:8080/"
        },
        "id": "30Y9tNtZw6C9",
        "outputId": "edeee79f-36ad-4402-8560-ff1e3eed72e1"
      },
      "outputs": [
        {
          "output_type": "stream",
          "name": "stdout",
          "text": [
            "[[1 0 2 1 1 1 1 1 2 0]\n",
            " [1 2 1 2 1 0 1 2 1 0]\n",
            " [1 1 1 1 1 2 2 0 2 2]\n",
            " [1 0 1 0 2 2 1 0 2 0]]\n",
            "False\n"
          ]
        }
      ],
      "source": [
        "z = np.random.randint(0,3,(4,10))\n",
        "print(z)\n",
        "print((~Z.any(axis=0)).any())"
      ]
    },
    {
      "cell_type": "markdown",
      "metadata": {
        "id": "LTYwNmSFw6C9"
      },
      "source": [
        "#### 61. Find the nearest value from a given value in an array (★★☆) \n",
        "(**hint**: np.abs, argmin, flat)"
      ]
    },
    {
      "cell_type": "code",
      "execution_count": 57,
      "metadata": {
        "colab": {
          "base_uri": "https://localhost:8080/"
        },
        "id": "aMvtqvD5w6C9",
        "outputId": "5e92a292-ef76-4668-a29b-9e0134e34198"
      },
      "outputs": [
        {
          "output_type": "stream",
          "name": "stdout",
          "text": [
            "3.2973725582392226\n"
          ]
        }
      ],
      "source": [
        "x = np.random.uniform(1,12,5)\n",
        "y =4\n",
        "z = x.flat[np.abs(x-y).argmin()]\n",
        "print(z)"
      ]
    },
    {
      "cell_type": "markdown",
      "metadata": {
        "id": "okptO5mdw6C9"
      },
      "source": [
        "#### 62. Considering two arrays with shape (1,3) and (3,1), how to compute their sum using an iterator? (★★☆) \n",
        "(**hint**: np.nditer)"
      ]
    },
    {
      "cell_type": "code",
      "execution_count": 63,
      "metadata": {
        "colab": {
          "base_uri": "https://localhost:8080/"
        },
        "id": "QiwjucBUw6C9",
        "outputId": "620134b0-0dcd-48fc-8e46-12ab93bc18e8"
      },
      "outputs": [
        {
          "output_type": "stream",
          "name": "stdout",
          "text": [
            "<numpy.nditer object at 0x7f5f263a7d50>\n",
            "[[0 1 2]\n",
            " [1 2 3]\n",
            " [2 3 4]]\n"
          ]
        }
      ],
      "source": [
        "A = np.arange(3).reshape(3,1)\n",
        "B = np.arange(3).reshape(1,3)\n",
        "it = np.nditer([A,B,None])\n",
        "print(it)\n",
        "for x,y,z in it:\n",
        "   z[...] = x + y\n",
        "print(it.operands[2])"
      ]
    },
    {
      "cell_type": "markdown",
      "metadata": {
        "id": "-TqCB4RTw6C9"
      },
      "source": [
        "#### 63. Create an array class that has a name attribute (★★☆) \n",
        "(**hint**: class method)"
      ]
    },
    {
      "cell_type": "code",
      "execution_count": 66,
      "metadata": {
        "colab": {
          "base_uri": "https://localhost:8080/"
        },
        "id": "vxDMsbahw6C9",
        "outputId": "7f2ae05e-925a-413d-c9af-03f6d43df3d6"
      },
      "outputs": [
        {
          "output_type": "stream",
          "name": "stdout",
          "text": [
            "range_10\n"
          ]
        }
      ],
      "source": [
        "class NamedArray(np.ndarray):\n",
        "    def __new__(cls, array, name=\"no name\"):\n",
        "        obj = np.asarray(array).view(cls)\n",
        "        obj.name = name\n",
        "        return obj\n",
        "    def __array_finalize__(self, obj):\n",
        "        if obj is None: return\n",
        "        self.name = getattr(obj, 'name', \"no name\")\n",
        "\n",
        "Z = NamedArray(np.arange(10), \"range_10\")\n",
        "print(Z.name)"
      ]
    },
    {
      "cell_type": "markdown",
      "metadata": {
        "id": "gIEvCItjw6C-"
      },
      "source": [
        "#### 64. Consider a given vector, how to add 1 to each element indexed by a second vector (be careful with repeated indices)? (★★★) \n",
        "(**hint**: np.bincount | np.add.at)"
      ]
    },
    {
      "cell_type": "code",
      "execution_count": 4,
      "metadata": {
        "colab": {
          "base_uri": "https://localhost:8080/"
        },
        "id": "YjDlWu-pw6C-",
        "outputId": "90740937-e295-4e7a-951d-518e36c1d85a"
      },
      "outputs": [
        {
          "output_type": "stream",
          "name": "stdout",
          "text": [
            "[3. 2. 4. 1. 2. 4. 5. 4. 4. 1.]\n"
          ]
        }
      ],
      "source": [
        "z = np.ones(10)\n",
        "y = np.random.randint(0,len(z),20)\n",
        "z += np.bincount(y,minlength=len(z))\n",
        "print(z) "
      ]
    },
    {
      "cell_type": "markdown",
      "metadata": {
        "id": "VyOJyxH0w6C-"
      },
      "source": [
        "#### 65. How to accumulate elements of a vector (X) to an array (F) based on an index list (I)? (★★★) \n",
        "(**hint**: np.bincount)"
      ]
    },
    {
      "cell_type": "code",
      "execution_count": 8,
      "metadata": {
        "colab": {
          "base_uri": "https://localhost:8080/"
        },
        "id": "4K4ZYWlXw6C-",
        "outputId": "e3586e33-9126-4dd3-d5a4-a59d30dc82ae"
      },
      "outputs": [
        {
          "output_type": "stream",
          "name": "stdout",
          "text": [
            "[0. 7. 0. 6. 5. 0. 0. 0. 0. 3.]\n"
          ]
        }
      ],
      "source": [
        " X = [1,2,3,4,5,6]\n",
        " I = [1,3,9,3,4,1]\n",
        " F = np.bincount(I,X)\n",
        " print(F)"
      ]
    },
    {
      "cell_type": "markdown",
      "metadata": {
        "id": "Z_7VxSOww6C-"
      },
      "source": [
        "#### 66. Considering a (w,h,3) image of (dtype=ubyte), compute the number of unique colors (★★★) \n",
        "(**hint**: np.unique)"
      ]
    },
    {
      "cell_type": "code",
      "execution_count": 4,
      "metadata": {
        "colab": {
          "base_uri": "https://localhost:8080/"
        },
        "id": "Gw_YY9mBw6C-",
        "outputId": "c7d00bdc-9500-4e5b-fd43-fe5de6a222d1"
      },
      "outputs": [
        {
          "output_type": "stream",
          "name": "stdout",
          "text": [
            "64\n"
          ]
        }
      ],
      "source": [
        " w,h = 256,256\n",
        " x =np.random.randint(0,4,(h,w,3)).astype(np.ubyte)\n",
        " colors = np.unique(x.reshape(-1,3), axis=0)\n",
        " y = len(colors)\n",
        " print(y)"
      ]
    },
    {
      "cell_type": "markdown",
      "metadata": {
        "id": "F4Zqrk3Ew6C-"
      },
      "source": [
        "#### 67. Considering a four dimensions array, how to get sum over the last two axis at once? (★★★) \n",
        "(**hint**: sum(axis=(-2,-1)))"
      ]
    },
    {
      "cell_type": "code",
      "source": [
        "a = np.random.randint(0,10,(3,4,3,4))\n",
        "sum = a.sum(axis=(-2,-1))\n",
        "print(sum)"
      ],
      "metadata": {
        "colab": {
          "base_uri": "https://localhost:8080/"
        },
        "id": "PvQtsporR2SQ",
        "outputId": "5f426621-269d-4bd9-8092-96abe41a8f63"
      },
      "execution_count": 7,
      "outputs": [
        {
          "output_type": "stream",
          "name": "stdout",
          "text": [
            "[[62 47 50 53]\n",
            " [43 54 42 54]\n",
            " [52 56 60 57]]\n"
          ]
        }
      ]
    },
    {
      "cell_type": "markdown",
      "metadata": {
        "id": "jjmdceQVw6C-"
      },
      "source": [
        "#### 68. Considering a one-dimensional vector D, how to compute means of subsets of D using a vector S of same size describing subset  indices? (★★★) \n",
        "(**hint**: np.bincount)"
      ]
    },
    {
      "cell_type": "code",
      "execution_count": 28,
      "metadata": {
        "colab": {
          "base_uri": "https://localhost:8080/"
        },
        "id": "k7ZOhFwzw6C-",
        "outputId": "b337133d-336b-4c5f-b6e7-f971ed9afb77"
      },
      "outputs": [
        {
          "output_type": "stream",
          "name": "stdout",
          "text": [
            "[0.64140808 0.49019967 0.40325477 0.49970301 0.50532811 0.53256077\n",
            " 0.45331367 0.43085955 0.48289068 0.46152366]\n",
            "0    0.641408\n",
            "1    0.490200\n",
            "2    0.403255\n",
            "3    0.499703\n",
            "4    0.505328\n",
            "5    0.532561\n",
            "6    0.453314\n",
            "7    0.430860\n",
            "8    0.482891\n",
            "9    0.461524\n",
            "dtype: float64\n"
          ]
        }
      ],
      "source": [
        "D = np.random.uniform(0,1,100)\n",
        "S = np.random.randint(0,10,100)\n",
        "D_sums = np.bincount(S, weights=D)\n",
        "D_counts = np.bincount(S)\n",
        "D_means = D_sums / D_counts\n",
        "print(D_means)\n",
        "\n",
        "import pandas as pd\n",
        "print(pd.Series(D).groupby(S).mean())"
      ]
    },
    {
      "cell_type": "markdown",
      "metadata": {
        "id": "a7gSuxIZw6C-"
      },
      "source": [
        "#### 69. How to get the diagonal of a dot product? (★★★) \n",
        "(**hint**: np.diag)"
      ]
    },
    {
      "cell_type": "code",
      "execution_count": 14,
      "metadata": {
        "colab": {
          "base_uri": "https://localhost:8080/"
        },
        "id": "xVOH9nQUw6C-",
        "outputId": "7fa5fa49-ef85-482c-89fe-32ff30dde581"
      },
      "outputs": [
        {
          "output_type": "execute_result",
          "data": {
            "text/plain": [
              "array([1.57108296, 1.13514689, 0.70357735, 1.21057155, 0.7671941 ])"
            ]
          },
          "metadata": {},
          "execution_count": 14
        }
      ],
      "source": [
        "x = np.random.uniform(0,1,(5,5))\n",
        "y = np.random.uniform(0,1,(5,5)) \n",
        "np.diag(np.dot(x,y))"
      ]
    },
    {
      "cell_type": "markdown",
      "metadata": {
        "id": "ZbdHRdW6w6C_"
      },
      "source": [
        "#### 70. Consider the vector \\[1, 2, 3, 4, 5\\], how to build a new vector with 3 consecutive zeros interleaved between each value? (★★★) \n",
        "(**hint**: array\\[::4\\])"
      ]
    },
    {
      "cell_type": "code",
      "execution_count": 21,
      "metadata": {
        "colab": {
          "base_uri": "https://localhost:8080/"
        },
        "id": "cKcl_dijw6C_",
        "outputId": "9a813945-41a3-447c-a539-1f9ccaa8d74b"
      },
      "outputs": [
        {
          "output_type": "stream",
          "name": "stdout",
          "text": [
            "[1. 0. 0. 0. 2. 0. 0. 0. 3. 0. 0. 0. 4. 0. 0. 0. 5.]\n"
          ]
        }
      ],
      "source": [
        "x = np.array([1,2,3,4,5])\n",
        "y = 3\n",
        "Z0 = np.zeros(len(x) + (len(x)-1)*(y))\n",
        "Z0[::y+1] = x\n",
        "print(Z0)"
      ]
    },
    {
      "cell_type": "markdown",
      "metadata": {
        "id": "hS8BDgYJw6C_"
      },
      "source": [
        "# #### 71. Consider an array of dimension (5,5,3), how to mulitply it by an array with dimensions (5,5)? (★★★) \n",
        "(**hint**: array\\[:, :, None\\])"
      ]
    },
    {
      "cell_type": "code",
      "execution_count": 32,
      "metadata": {
        "collapsed": true,
        "colab": {
          "base_uri": "https://localhost:8080/"
        },
        "id": "N98yvIs4w6C_",
        "outputId": "7160d4c5-069a-4162-8fa3-9c88a968af00"
      },
      "outputs": [
        {
          "output_type": "stream",
          "name": "stdout",
          "text": [
            "[[[1. 1. 1.]\n",
            "  [1. 1. 1.]\n",
            "  [1. 1. 1.]\n",
            "  [1. 1. 1.]\n",
            "  [1. 1. 1.]]\n",
            "\n",
            " [[1. 1. 1.]\n",
            "  [1. 1. 1.]\n",
            "  [1. 1. 1.]\n",
            "  [1. 1. 1.]\n",
            "  [1. 1. 1.]]\n",
            "\n",
            " [[1. 1. 1.]\n",
            "  [1. 1. 1.]\n",
            "  [1. 1. 1.]\n",
            "  [1. 1. 1.]\n",
            "  [1. 1. 1.]]\n",
            "\n",
            " [[1. 1. 1.]\n",
            "  [1. 1. 1.]\n",
            "  [1. 1. 1.]\n",
            "  [1. 1. 1.]\n",
            "  [1. 1. 1.]]\n",
            "\n",
            " [[1. 1. 1.]\n",
            "  [1. 1. 1.]\n",
            "  [1. 1. 1.]\n",
            "  [1. 1. 1.]\n",
            "  [1. 1. 1.]]]\n"
          ]
        }
      ],
      "source": [
        "a = np.ones((5,5,3))\n",
        "b = np.ones((5,5))\n",
        "print(a * b[:,:,None])"
      ]
    },
    {
      "cell_type": "markdown",
      "metadata": {
        "id": "yDpFf3-9w6C_"
      },
      "source": [
        "#### 72. How to swap two rows of an array? (★★★) \n",
        "(**hint**: array\\[\\[\\]\\] = array\\[\\[\\]\\])"
      ]
    },
    {
      "cell_type": "code",
      "execution_count": 33,
      "metadata": {
        "colab": {
          "base_uri": "https://localhost:8080/"
        },
        "id": "IDZkekYQw6C_",
        "outputId": "b7ab2d35-11e7-4630-cbb8-3818f3609686"
      },
      "outputs": [
        {
          "output_type": "stream",
          "name": "stdout",
          "text": [
            "[[ 5  6  7  8  9]\n",
            " [ 0  1  2  3  4]\n",
            " [10 11 12 13 14]\n",
            " [15 16 17 18 19]\n",
            " [20 21 22 23 24]]\n"
          ]
        }
      ],
      "source": [
        "a = np.arange(25).reshape(5,5)\n",
        "a[[0,1]] = a[[1,0]]\n",
        "print(a)"
      ]
    },
    {
      "cell_type": "markdown",
      "metadata": {
        "id": "mr5KZVbmw6C_"
      },
      "source": [
        "#### 73. Consider a set of 10 triplets describing 10 triangles (with shared vertices), find the set of unique line segments composing all the  triangles (★★★) \n",
        "(**hint**: repeat, np.roll, np.sort, view, np.unique)"
      ]
    },
    {
      "cell_type": "code",
      "execution_count": 36,
      "metadata": {
        "colab": {
          "base_uri": "https://localhost:8080/"
        },
        "id": "AxJ0q92Ow6C_",
        "outputId": "8adb2f84-4573-4f2f-ba36-0839353df9bf"
      },
      "outputs": [
        {
          "output_type": "stream",
          "name": "stdout",
          "text": [
            "[( 9, 86) ( 9, 89) (14, 52) (14, 87) (14, 89) (14, 98) (15, 28) (15, 62)\n",
            " (16, 60) (16, 83) (22, 75) (22, 89) (27, 35) (27, 63) (28, 62) (32, 68)\n",
            " (32, 80) (35, 63) (37, 61) (37, 62) (52, 89) (57, 66) (57, 99) (60, 83)\n",
            " (61, 62) (66, 99) (68, 80) (75, 89) (86, 89) (87, 98)]\n"
          ]
        }
      ],
      "source": [
        "faces = np.random.randint(0,100,(10,3))\n",
        "F = np.roll(faces.repeat(2,axis=1),-1,axis=1)\n",
        "F = F.reshape(len(F)*3,2)\n",
        "F = np.sort(F,axis=1)\n",
        "G = F.view( dtype=[('p0',F.dtype),('p1',F.dtype)] )\n",
        "G = np.unique(G)\n",
        "print(G)"
      ]
    },
    {
      "cell_type": "markdown",
      "metadata": {
        "id": "YUAkem-ew6C_"
      },
      "source": [
        "#### 74. Given an array C that is a bincount, how to produce an array A such that np.bincount(A) == C? (★★★) \n",
        "(**hint**: np.repeat)"
      ]
    },
    {
      "cell_type": "code",
      "execution_count": 44,
      "metadata": {
        "colab": {
          "base_uri": "https://localhost:8080/"
        },
        "id": "Fq-Qg5xBw6DA",
        "outputId": "4ac1c428-3ce8-451f-fd62-5acb67f1c276"
      },
      "outputs": [
        {
          "output_type": "stream",
          "name": "stdout",
          "text": [
            "[1 1 2 3 4 4 6]\n"
          ]
        }
      ],
      "source": [
        "c = np.bincount([1,1,2,3,4,4,6])\n",
        "a = np.repeat(np.arange(len(c)),c)\n",
        "print(a)"
      ]
    },
    {
      "cell_type": "markdown",
      "metadata": {
        "id": "PoUMwQT8w6DA"
      },
      "source": [
        "#### 75. How to compute averages using a sliding window over an array? (★★★) \n",
        "(**hint**: np.cumsum)"
      ]
    },
    {
      "cell_type": "code",
      "execution_count": 45,
      "metadata": {
        "colab": {
          "base_uri": "https://localhost:8080/"
        },
        "id": "FeDlDZBNw6DA",
        "outputId": "1788fca6-f9ec-4fb7-a230-9a133b968c21"
      },
      "outputs": [
        {
          "output_type": "stream",
          "name": "stdout",
          "text": [
            "[ 1.  2.  3.  4.  5.  6.  7.  8.  9. 10. 11. 12. 13. 14. 15. 16. 17. 18.]\n"
          ]
        }
      ],
      "source": [
        "def moving_average(a, n=3) :\n",
        "    ret = np.cumsum(a, dtype=float)\n",
        "    ret[n:] = ret[n:] - ret[:-n]\n",
        "    return ret[n - 1:] / n\n",
        "Z = np.arange(20)\n",
        "print(moving_average(Z, n=3))"
      ]
    },
    {
      "cell_type": "markdown",
      "metadata": {
        "id": "76SffLLyw6DA"
      },
      "source": [
        "#### 76. Consider a one-dimensional array Z, build a two-dimensional array whose first row is (Z\\[0\\],Z\\[1\\],Z\\[2\\]) and each subsequent row is  shifted by 1 (last row should be (Z\\[-3\\],Z\\[-2\\],Z\\[-1\\]) (★★★) \n",
        "(**hint**: from numpy.lib import stride_tricks)"
      ]
    },
    {
      "cell_type": "code",
      "execution_count": 46,
      "metadata": {
        "colab": {
          "base_uri": "https://localhost:8080/"
        },
        "id": "wW-8oJmpw6DA",
        "outputId": "01e9c2d7-480c-4082-f18c-c4d6913e64d4"
      },
      "outputs": [
        {
          "output_type": "stream",
          "name": "stdout",
          "text": [
            "[[0 1 2]\n",
            " [1 2 3]\n",
            " [2 3 4]\n",
            " [3 4 5]\n",
            " [4 5 6]\n",
            " [5 6 7]\n",
            " [6 7 8]\n",
            " [7 8 9]]\n"
          ]
        }
      ],
      "source": [
        "from numpy.lib import stride_tricks\n",
        "\n",
        "def rolling(a, window):\n",
        "    shape = (a.size - window + 1, window)\n",
        "    strides = (a.strides[0], a.strides[0])\n",
        "    return stride_tricks.as_strided(a, shape=shape, strides=strides)\n",
        "Z = rolling(np.arange(10), 3)\n",
        "print(Z)"
      ]
    },
    {
      "cell_type": "markdown",
      "metadata": {
        "id": "n568WoB1w6DB"
      },
      "source": [
        "#### 77. How to negate a boolean, or to change the sign of a float inplace? (★★★) \n",
        "(**hint**: np.logical_not, np.negative)"
      ]
    },
    {
      "cell_type": "code",
      "execution_count": 49,
      "metadata": {
        "colab": {
          "base_uri": "https://localhost:8080/"
        },
        "id": "UyKuj4qgw6DB",
        "outputId": "e542d524-3c02-438d-813c-37fe014fea17"
      },
      "outputs": [
        {
          "output_type": "execute_result",
          "data": {
            "text/plain": [
              "array([-0.9157897 ,  0.01512374, -0.57830095,  0.75980247, -0.1779853 ,\n",
              "       -0.60660532, -0.63233112,  0.58963869,  0.70920649, -0.49223161,\n",
              "        0.25506807,  0.06860495,  0.03394097, -0.44796713,  0.4788344 ,\n",
              "        0.17679458,  0.84651217, -0.31692232,  0.32620857,  0.8933805 ,\n",
              "       -0.7519697 , -0.78933208, -0.63602815,  0.79312578,  0.30704921,\n",
              "        0.07120278,  0.63582435, -0.30543114,  0.2700444 ,  0.25523295,\n",
              "        0.49039358,  0.72364325,  0.04632429,  0.29414225, -0.03499863,\n",
              "        0.22529563, -0.40606864,  0.49843923,  0.24201237, -0.40577452,\n",
              "        0.18790849, -0.05022437, -0.22757429, -0.15618483,  0.06718797,\n",
              "        0.83663158,  0.42174358,  0.02979872, -0.16819025,  0.95763559,\n",
              "       -0.93697541,  0.46037363, -0.99696134,  0.21748531, -0.9303927 ,\n",
              "        0.40123083, -0.70783419,  0.52765198, -0.660462  ,  0.73934181,\n",
              "        0.65381594, -0.67227428,  0.37627614, -0.59084338, -0.09352269,\n",
              "       -0.09293934,  0.93347471, -0.81129248, -0.32431011, -0.02417063,\n",
              "       -0.73535676,  0.63926259, -0.28431188,  0.32707695,  0.68199123,\n",
              "       -0.74599349, -0.96606898, -0.01628649,  0.29377906,  0.58319339,\n",
              "       -0.76695381, -0.0218585 ,  0.82878144, -0.43860787, -0.66878523,\n",
              "       -0.99514942,  0.49688951,  0.05681168, -0.40722994, -0.68477318,\n",
              "       -0.32293875, -0.97181448,  0.19973573,  0.65078903,  0.04853162,\n",
              "        0.87782835, -0.70210698,  0.92855328, -0.25165194,  0.2534315 ])"
            ]
          },
          "metadata": {},
          "execution_count": 49
        }
      ],
      "source": [
        "x = np.random.randint(0,2,100)\n",
        "np.logical_not(x, out=x)\n",
        "x = np.random.uniform(-1.0,1.0,100)\n",
        "np.negative(x, out=x)"
      ]
    },
    {
      "cell_type": "markdown",
      "metadata": {
        "id": "1cS3-bM5w6DB"
      },
      "source": [
        "#### 78. Consider 2 sets of points P0,P1 describing lines (2d) and a point p, how to compute distance from p to each line i  (P0\\[i\\],P1\\[i\\])? (★★★)"
      ]
    },
    {
      "cell_type": "code",
      "execution_count": 59,
      "metadata": {
        "colab": {
          "base_uri": "https://localhost:8080/"
        },
        "id": "9_Tl07Ruw6DB",
        "outputId": "3c9bcdaf-ee9e-4f8f-f95b-ff43cee25ee0"
      },
      "outputs": [
        {
          "output_type": "stream",
          "name": "stdout",
          "text": [
            "[ 1.17951244  5.61974874  8.37535766 11.43364068  8.37431474  8.92775471\n",
            "  5.20171621  6.34557875  8.13209393  3.85161682]\n"
          ]
        }
      ],
      "source": [
        "def distance(P0, P1, p):\n",
        "    x = P1 - P0\n",
        "    y = (x**2).sum(axis=1)\n",
        "    z = -((P0[:,0]-p[...,0])*x[:,0] + (P0[:,1]-p[...,1])*x[:,1]) / y\n",
        "    z = z.reshape(len(z),1)\n",
        "    l = P0 + z*x - p\n",
        "    return np.sqrt((l**2).sum(axis=1))\n",
        "\n",
        "P0 = np.random.uniform(-10,10,(10,2))\n",
        "P1 = np.random.uniform(-10,10,(10,2))\n",
        "p  = np.random.uniform(-10,10,( 1,2))\n",
        "print(distance(P0, P1, p))"
      ]
    },
    {
      "cell_type": "markdown",
      "metadata": {
        "id": "fdfzThAjw6DB"
      },
      "source": [
        "#### 79. Consider 2 sets of points P0,P1 describing lines (2d) and a set of points P, how to compute distance from each point j (P\\[j\\]) to each line i (P0\\[i\\],P1\\[i\\])? (★★★)"
      ]
    },
    {
      "cell_type": "code",
      "execution_count": 60,
      "metadata": {
        "colab": {
          "base_uri": "https://localhost:8080/"
        },
        "id": "GdiU3eEgw6DB",
        "outputId": "73ca49bd-d272-49f9-8e07-4ff2c76bc0ba"
      },
      "outputs": [
        {
          "output_type": "stream",
          "name": "stdout",
          "text": [
            "[[ 7.01308845 12.43424822  1.72757274  2.32547005  7.82443572  0.50271908\n",
            "   3.13809969  0.74053667  8.47815273  3.49508079]\n",
            " [ 7.41269402 15.62960145  4.93293752  2.7189772   5.04488917  4.07727226\n",
            "   5.81898007  2.90860326  6.02823936  5.92794577]\n",
            " [ 6.24516051  8.38418731  2.25086499 10.94084692  3.86207494  0.03407284\n",
            "  15.12640871 13.88993287  4.10840156  4.61642181]\n",
            " [ 2.4870866   4.13448104  6.57513649  2.18901266 10.88382934  7.67089067\n",
            "   0.38333107  0.54241972 10.54943198  4.19946238]\n",
            " [ 3.2612001  15.51538992  4.88884787  7.96790473  7.56991819  7.34510364\n",
            "  18.58505725 16.12025826  7.00146921  1.63801461]\n",
            " [10.58762336  3.17410514 13.82621687 15.26483942  2.73678021 11.97303497\n",
            "   8.92460343  9.65920223  1.18854099 14.55888486]\n",
            " [11.78268109 16.97087695  6.25063081  7.09161041  8.89034766  4.23910232\n",
            "   1.87386208  1.42020302 10.17098236  8.60606365]\n",
            " [ 1.92854442  3.2106028   7.47347783  6.60820765  6.55858757  7.33462231\n",
            "   4.79670005  4.19157221  5.96626431  6.5983625 ]\n",
            " [ 6.55707022  8.55351865  2.07880079 11.25349245  4.40665682  0.32960296\n",
            "  15.67037858 14.42007764  4.64811165  4.61882934]\n",
            " [ 6.60653164  2.12472474  8.53272586 11.2897496   2.08550602  7.10245924\n",
            "   9.36626653  9.11746406  1.20938945  9.21606161]]\n"
          ]
        }
      ],
      "source": [
        "P0 = np.random.uniform(-10, 10, (10,2))\n",
        "P1 = np.random.uniform(-10,10,(10,2))\n",
        "p = np.random.uniform(-10, 10, (10,2))\n",
        "print(np.array([distance(P0,P1,p_i) for p_i in p]))"
      ]
    },
    {
      "cell_type": "markdown",
      "metadata": {
        "id": "A2ZjwiiVw6DB"
      },
      "source": [
        "#### 80. Consider an arbitrary array, write a function that extract a subpart with a fixed shape and centered on a given element (pad with a `fill` value when necessary) (★★★) \n",
        "(**hint**: minimum, maximum)"
      ]
    },
    {
      "cell_type": "code",
      "execution_count": 61,
      "metadata": {
        "colab": {
          "base_uri": "https://localhost:8080/"
        },
        "id": "lAk1yaCow6DC",
        "outputId": "6107727a-b19a-4a5c-a5b7-45b493bfa1f4"
      },
      "outputs": [
        {
          "output_type": "stream",
          "name": "stdout",
          "text": [
            "[[8 2 7 7 2 8 3 9 1 8]\n",
            " [7 0 5 3 3 0 3 4 6 0]\n",
            " [5 5 0 4 4 0 5 7 6 6]\n",
            " [3 9 1 9 5 9 7 5 8 9]\n",
            " [0 6 3 6 5 0 5 3 4 8]\n",
            " [5 5 2 5 9 8 2 9 5 3]\n",
            " [2 2 8 5 8 0 0 2 1 1]\n",
            " [6 1 0 7 6 3 6 1 4 4]\n",
            " [8 2 8 3 5 0 0 5 3 6]\n",
            " [0 7 4 5 7 6 5 0 0 1]]\n",
            "[[0 0 0 0 0]\n",
            " [0 8 2 7 7]\n",
            " [0 7 0 5 3]\n",
            " [0 5 5 0 4]\n",
            " [0 3 9 1 9]]\n"
          ]
        },
        {
          "output_type": "stream",
          "name": "stderr",
          "text": [
            "/usr/local/lib/python3.7/dist-packages/ipykernel_launcher.py:23: FutureWarning: Using a non-tuple sequence for multidimensional indexing is deprecated; use `arr[tuple(seq)]` instead of `arr[seq]`. In the future this will be interpreted as an array index, `arr[np.array(seq)]`, which will result either in an error or a different result.\n"
          ]
        }
      ],
      "source": [
        "\n",
        "Z = np.random.randint(0,10,(10,10))\n",
        "shape = (5,5)\n",
        "fill  = 0\n",
        "position = (1,1)\n",
        "\n",
        "R = np.ones(shape, dtype=Z.dtype)*fill\n",
        "P  = np.array(list(position)).astype(int)\n",
        "Rs = np.array(list(R.shape)).astype(int)\n",
        "Zs = np.array(list(Z.shape)).astype(int)\n",
        "\n",
        "R_start = np.zeros((len(shape),)).astype(int)\n",
        "R_stop  = np.array(list(shape)).astype(int)\n",
        "Z_start = (P-Rs//2)\n",
        "Z_stop  = (P+Rs//2)+Rs%2\n",
        "\n",
        "R_start = (R_start - np.minimum(Z_start,0)).tolist()\n",
        "Z_start = (np.maximum(Z_start,0)).tolist()\n",
        "R_stop = np.maximum(R_start, (R_stop - np.maximum(Z_stop-Zs,0))).tolist()\n",
        "Z_stop = (np.minimum(Z_stop,Zs)).tolist()\n",
        "\n",
        "r = [slice(start,stop) for start,stop in zip(R_start,R_stop)]\n",
        "z = [slice(start,stop) for start,stop in zip(Z_start,Z_stop)]\n",
        "R[r] = Z[z]\n",
        "print(Z)\n",
        "print(R)"
      ]
    },
    {
      "cell_type": "markdown",
      "metadata": {
        "id": "Nzz3FJfjw6DC"
      },
      "source": [
        "#### 81. Consider an array Z = \\[1,2,3,4,5,6,7,8,9,10,11,12,13,14\\], how to generate an array R = \\[\\[1,2,3,4\\], \\[2,3,4,5\\], \\[3,4,5,6\\], ..., \\[11,12,13,14\\]\\]? (★★★) \n",
        "(**hint**: stride\\_tricks.as\\_strided)"
      ]
    },
    {
      "cell_type": "code",
      "execution_count": 70,
      "metadata": {
        "colab": {
          "base_uri": "https://localhost:8080/"
        },
        "id": "Z4iuz-o5w6DC",
        "outputId": "ec55e782-bdf3-4e6c-c12f-4f229022943d"
      },
      "outputs": [
        {
          "output_type": "stream",
          "name": "stdout",
          "text": [
            "[[ 1  2  3  4]\n",
            " [ 2  3  4  5]\n",
            " [ 3  4  5  6]\n",
            " [ 4  5  6  7]\n",
            " [ 5  6  7  8]\n",
            " [ 6  7  8  9]\n",
            " [ 7  8  9 10]\n",
            " [ 8  9 10 11]\n",
            " [ 9 10 11 12]\n",
            " [10 11 12 13]\n",
            " [11 12 13 14]]\n"
          ]
        }
      ],
      "source": [
        "x = np.arange(1,15,dtype=np.uint32)\n",
        "y =stride_tricks.as_strided(x,(11,4),(4,4))\n",
        "print(y)"
      ]
    },
    {
      "cell_type": "markdown",
      "metadata": {
        "id": "JxtdkNaQw6DC"
      },
      "source": [
        "#### 82. Compute a matrix rank (★★★) \n",
        "(**hint**: np.linalg.svd) (suggestion: np.linalg.svd)"
      ]
    },
    {
      "cell_type": "code",
      "execution_count": 73,
      "metadata": {
        "colab": {
          "base_uri": "https://localhost:8080/"
        },
        "id": "CNxh7X0Aw6DC",
        "outputId": "0f9d34dc-8861-4b21-a068-f53a9e628880"
      },
      "outputs": [
        {
          "output_type": "stream",
          "name": "stdout",
          "text": [
            "10\n"
          ]
        }
      ],
      "source": [
        "Z = np.random.uniform(0,1,(10,10))\n",
        "U, S, V = np.linalg.svd(Z) \n",
        "rank = np.sum(S > 1e-10)\n",
        "print(rank)\n"
      ]
    },
    {
      "cell_type": "markdown",
      "metadata": {
        "id": "rZ3ogdlow6DC"
      },
      "source": [
        "#### 83. How to find the most frequent value in an array? \n",
        "(**hint**: np.bincount, argmax)"
      ]
    },
    {
      "cell_type": "code",
      "execution_count": 82,
      "metadata": {
        "colab": {
          "base_uri": "https://localhost:8080/"
        },
        "id": "KIvwV7ZTw6DC",
        "outputId": "4c076af9-c5d8-4b34-bbd1-4eb6cdde87b1"
      },
      "outputs": [
        {
          "output_type": "stream",
          "name": "stdout",
          "text": [
            "[7 1 7 2 0 8 6 5 2 4 5 6 1 6 5 8 0 0 7 8 6 8 8 2 7 1 6 6 3 0]\n",
            "6\n"
          ]
        }
      ],
      "source": [
        "a = np.random.randint(0,10,30)\n",
        "print(a)\n",
        "print(np.bincount(a).argmax())"
      ]
    },
    {
      "cell_type": "code",
      "execution_count": 85,
      "metadata": {
        "colab": {
          "base_uri": "https://localhost:8080/"
        },
        "id": "3iA9b9NMw6DD",
        "outputId": "eac242bd-2f1a-44e3-951b-c156270eca54"
      },
      "outputs": [
        {
          "output_type": "stream",
          "name": "stdout",
          "text": [
            "[[[[1 4 1]\n",
            "   [2 3 0]\n",
            "   [0 2 3]]\n",
            "\n",
            "  [[4 1 4]\n",
            "   [3 0 0]\n",
            "   [2 3 3]]\n",
            "\n",
            "  [[1 4 1]\n",
            "   [0 0 2]\n",
            "   [3 3 3]]\n",
            "\n",
            "  [[4 1 4]\n",
            "   [0 2 2]\n",
            "   [3 3 1]]\n",
            "\n",
            "  [[1 4 2]\n",
            "   [2 2 4]\n",
            "   [3 1 1]]\n",
            "\n",
            "  [[4 2 1]\n",
            "   [2 4 4]\n",
            "   [1 1 0]]\n",
            "\n",
            "  [[2 1 3]\n",
            "   [4 4 3]\n",
            "   [1 0 0]]\n",
            "\n",
            "  [[1 3 3]\n",
            "   [4 3 2]\n",
            "   [0 0 0]]]\n",
            "\n",
            "\n",
            " [[[2 3 0]\n",
            "   [0 2 3]\n",
            "   [1 0 0]]\n",
            "\n",
            "  [[3 0 0]\n",
            "   [2 3 3]\n",
            "   [0 0 0]]\n",
            "\n",
            "  [[0 0 2]\n",
            "   [3 3 3]\n",
            "   [0 0 4]]\n",
            "\n",
            "  [[0 2 2]\n",
            "   [3 3 1]\n",
            "   [0 4 1]]\n",
            "\n",
            "  [[2 2 4]\n",
            "   [3 1 1]\n",
            "   [4 1 1]]\n",
            "\n",
            "  [[2 4 4]\n",
            "   [1 1 0]\n",
            "   [1 1 0]]\n",
            "\n",
            "  [[4 4 3]\n",
            "   [1 0 0]\n",
            "   [1 0 3]]\n",
            "\n",
            "  [[4 3 2]\n",
            "   [0 0 0]\n",
            "   [0 3 2]]]\n",
            "\n",
            "\n",
            " [[[0 2 3]\n",
            "   [1 0 0]\n",
            "   [4 4 3]]\n",
            "\n",
            "  [[2 3 3]\n",
            "   [0 0 0]\n",
            "   [4 3 4]]\n",
            "\n",
            "  [[3 3 3]\n",
            "   [0 0 4]\n",
            "   [3 4 2]]\n",
            "\n",
            "  [[3 3 1]\n",
            "   [0 4 1]\n",
            "   [4 2 0]]\n",
            "\n",
            "  [[3 1 1]\n",
            "   [4 1 1]\n",
            "   [2 0 2]]\n",
            "\n",
            "  [[1 1 0]\n",
            "   [1 1 0]\n",
            "   [0 2 4]]\n",
            "\n",
            "  [[1 0 0]\n",
            "   [1 0 3]\n",
            "   [2 4 2]]\n",
            "\n",
            "  [[0 0 0]\n",
            "   [0 3 2]\n",
            "   [4 2 4]]]\n",
            "\n",
            "\n",
            " [[[1 0 0]\n",
            "   [4 4 3]\n",
            "   [4 1 1]]\n",
            "\n",
            "  [[0 0 0]\n",
            "   [4 3 4]\n",
            "   [1 1 2]]\n",
            "\n",
            "  [[0 0 4]\n",
            "   [3 4 2]\n",
            "   [1 2 4]]\n",
            "\n",
            "  [[0 4 1]\n",
            "   [4 2 0]\n",
            "   [2 4 1]]\n",
            "\n",
            "  [[4 1 1]\n",
            "   [2 0 2]\n",
            "   [4 1 0]]\n",
            "\n",
            "  [[1 1 0]\n",
            "   [0 2 4]\n",
            "   [1 0 0]]\n",
            "\n",
            "  [[1 0 3]\n",
            "   [2 4 2]\n",
            "   [0 0 2]]\n",
            "\n",
            "  [[0 3 2]\n",
            "   [4 2 4]\n",
            "   [0 2 0]]]\n",
            "\n",
            "\n",
            " [[[4 4 3]\n",
            "   [4 1 1]\n",
            "   [2 0 0]]\n",
            "\n",
            "  [[4 3 4]\n",
            "   [1 1 2]\n",
            "   [0 0 2]]\n",
            "\n",
            "  [[3 4 2]\n",
            "   [1 2 4]\n",
            "   [0 2 4]]\n",
            "\n",
            "  [[4 2 0]\n",
            "   [2 4 1]\n",
            "   [2 4 4]]\n",
            "\n",
            "  [[2 0 2]\n",
            "   [4 1 0]\n",
            "   [4 4 3]]\n",
            "\n",
            "  [[0 2 4]\n",
            "   [1 0 0]\n",
            "   [4 3 0]]\n",
            "\n",
            "  [[2 4 2]\n",
            "   [0 0 2]\n",
            "   [3 0 0]]\n",
            "\n",
            "  [[4 2 4]\n",
            "   [0 2 0]\n",
            "   [0 0 4]]]\n",
            "\n",
            "\n",
            " [[[4 1 1]\n",
            "   [2 0 0]\n",
            "   [2 3 0]]\n",
            "\n",
            "  [[1 1 2]\n",
            "   [0 0 2]\n",
            "   [3 0 1]]\n",
            "\n",
            "  [[1 2 4]\n",
            "   [0 2 4]\n",
            "   [0 1 2]]\n",
            "\n",
            "  [[2 4 1]\n",
            "   [2 4 4]\n",
            "   [1 2 1]]\n",
            "\n",
            "  [[4 1 0]\n",
            "   [4 4 3]\n",
            "   [2 1 2]]\n",
            "\n",
            "  [[1 0 0]\n",
            "   [4 3 0]\n",
            "   [1 2 0]]\n",
            "\n",
            "  [[0 0 2]\n",
            "   [3 0 0]\n",
            "   [2 0 4]]\n",
            "\n",
            "  [[0 2 0]\n",
            "   [0 0 4]\n",
            "   [0 4 1]]]\n",
            "\n",
            "\n",
            " [[[2 0 0]\n",
            "   [2 3 0]\n",
            "   [0 0 2]]\n",
            "\n",
            "  [[0 0 2]\n",
            "   [3 0 1]\n",
            "   [0 2 0]]\n",
            "\n",
            "  [[0 2 4]\n",
            "   [0 1 2]\n",
            "   [2 0 3]]\n",
            "\n",
            "  [[2 4 4]\n",
            "   [1 2 1]\n",
            "   [0 3 1]]\n",
            "\n",
            "  [[4 4 3]\n",
            "   [2 1 2]\n",
            "   [3 1 4]]\n",
            "\n",
            "  [[4 3 0]\n",
            "   [1 2 0]\n",
            "   [1 4 3]]\n",
            "\n",
            "  [[3 0 0]\n",
            "   [2 0 4]\n",
            "   [4 3 1]]\n",
            "\n",
            "  [[0 0 4]\n",
            "   [0 4 1]\n",
            "   [3 1 3]]]\n",
            "\n",
            "\n",
            " [[[2 3 0]\n",
            "   [0 0 2]\n",
            "   [1 3 2]]\n",
            "\n",
            "  [[3 0 1]\n",
            "   [0 2 0]\n",
            "   [3 2 0]]\n",
            "\n",
            "  [[0 1 2]\n",
            "   [2 0 3]\n",
            "   [2 0 1]]\n",
            "\n",
            "  [[1 2 1]\n",
            "   [0 3 1]\n",
            "   [0 1 4]]\n",
            "\n",
            "  [[2 1 2]\n",
            "   [3 1 4]\n",
            "   [1 4 0]]\n",
            "\n",
            "  [[1 2 0]\n",
            "   [1 4 3]\n",
            "   [4 0 1]]\n",
            "\n",
            "  [[2 0 4]\n",
            "   [4 3 1]\n",
            "   [0 1 4]]\n",
            "\n",
            "  [[0 4 1]\n",
            "   [3 1 3]\n",
            "   [1 4 2]]]]\n"
          ]
        }
      ],
      "source": [
        "Z = np.random.randint(0,5,(10,10))\n",
        "n = 3\n",
        "i = 1 + (Z.shape[0]-3)\n",
        "j = 1 + (Z.shape[1]-3)\n",
        "C = stride_tricks.as_strided(Z, shape=(i, j, n, n), strides=Z.strides + Z.strides)\n",
        "print(C)"
      ]
    },
    {
      "cell_type": "markdown",
      "metadata": {
        "id": "KbvkRZrRw6DD"
      },
      "source": [
        "#### 85. Create a 2D array subclass such that Z\\[i,j\\] == Z\\[j,i\\] (★★★) \n",
        "(**hint**: class method)"
      ]
    },
    {
      "cell_type": "code",
      "execution_count": 86,
      "metadata": {
        "colab": {
          "base_uri": "https://localhost:8080/"
        },
        "id": "BGKvTsrMw6DD",
        "outputId": "d654b4bf-6a6d-4345-c31e-ca0d24e64447"
      },
      "outputs": [
        {
          "output_type": "stream",
          "name": "stdout",
          "text": [
            "[[ 9  8 10 11 10]\n",
            " [ 8  4 10 13 16]\n",
            " [10 10  0 42  6]\n",
            " [11 13 42  7 15]\n",
            " [10 16  6 15  5]]\n"
          ]
        }
      ],
      "source": [
        "\n",
        "class Symetric(np.ndarray):\n",
        "    def __setitem__(self, index, value):\n",
        "        i,j = index\n",
        "        super(Symetric, self).__setitem__((i,j), value)\n",
        "        super(Symetric, self).__setitem__((j,i), value)\n",
        "\n",
        "def symetric(Z):\n",
        "    return np.asarray(Z + Z.T - np.diag(Z.diagonal())).view(Symetric)\n",
        "\n",
        "S = symetric(np.random.randint(0,10,(5,5)))\n",
        "S[2,3] = 42\n",
        "print(S)"
      ]
    },
    {
      "cell_type": "markdown",
      "metadata": {
        "id": "pgND0o_Fw6DD"
      },
      "source": [
        "#### 86. Consider a set of p matrices wich shape (n,n) and a set of p vectors with shape (n,1). How to compute the sum of of the p matrix products at once? (result has shape (n,1)) (★★★) \n",
        "(**hint**: np.tensordot)"
      ]
    },
    {
      "cell_type": "code",
      "execution_count": 90,
      "metadata": {
        "colab": {
          "base_uri": "https://localhost:8080/"
        },
        "id": "9Da302UCw6DD",
        "outputId": "d89ee0d6-b48c-47f3-852f-8f56f581f36d"
      },
      "outputs": [
        {
          "output_type": "stream",
          "name": "stdout",
          "text": [
            "[[50.]\n",
            " [50.]\n",
            " [50.]\n",
            " [50.]\n",
            " [50.]\n",
            " [50.]\n",
            " [50.]\n",
            " [50.]\n",
            " [50.]\n",
            " [50.]]\n"
          ]
        }
      ],
      "source": [
        "p,n = 5,10,\n",
        "m = np.ones((p,n,n))\n",
        "n = np.ones((p,n,1))\n",
        "s = np.tensordot(m, n, axes =[[0,2],[0,1]])\n",
        "print(s)"
      ]
    },
    {
      "cell_type": "markdown",
      "metadata": {
        "id": "zcCNorHpw6DD"
      },
      "source": [
        "#### 87. Consider a 16x16 array, how to get the block-sum (block size is 4x4)? (★★★) \n",
        "(**hint**: np.add.reduceat)"
      ]
    },
    {
      "cell_type": "code",
      "execution_count": 93,
      "metadata": {
        "colab": {
          "base_uri": "https://localhost:8080/"
        },
        "id": "k_s-lrStw6DD",
        "outputId": "c6d55295-36d2-4174-da0b-b8ee34c23659"
      },
      "outputs": [
        {
          "output_type": "stream",
          "name": "stdout",
          "text": [
            "[[50.]\n",
            " [50.]\n",
            " [50.]\n",
            " [50.]\n",
            " [50.]\n",
            " [50.]\n",
            " [50.]\n",
            " [50.]\n",
            " [50.]\n",
            " [50.]]\n"
          ]
        }
      ],
      "source": [
        "a = np.ones((16,16))\n",
        "b = 4\n",
        "d = np.add.reduceat(np.add.reduceat(a,np.arange(0,a.shape[0], b),axis = 0),\n",
        "                    np.arange(0, a.shape[1],b),axis =1)\n",
        "print(s)"
      ]
    },
    {
      "cell_type": "markdown",
      "metadata": {
        "id": "DQc9qWmvw6DD"
      },
      "source": [
        "#### 88. How to implement the Game of Life using numpy arrays? (★★★)"
      ]
    },
    {
      "cell_type": "code",
      "execution_count": 3,
      "metadata": {
        "colab": {
          "base_uri": "https://localhost:8080/"
        },
        "id": "nKxDOWT9w6DE",
        "outputId": "bce116c3-4031-4b98-8de0-710c8ef23500"
      },
      "outputs": [
        {
          "output_type": "stream",
          "name": "stdout",
          "text": [
            "[[0 0 0 ... 0 0 0]\n",
            " [0 0 0 ... 0 0 0]\n",
            " [0 0 0 ... 0 0 0]\n",
            " ...\n",
            " [0 0 0 ... 0 0 0]\n",
            " [0 0 0 ... 0 0 0]\n",
            " [0 0 0 ... 0 0 0]]\n"
          ]
        }
      ],
      "source": [
        "def iterate(Z):\n",
        "    \n",
        "    N = (Z[0:-2,0:-2] + Z[0:-2,1:-1] + Z[0:-2,2:] +\n",
        "         Z[1:-1,0:-2]                + Z[1:-1,2:] +\n",
        "         Z[2:  ,0:-2] + Z[2:  ,1:-1] + Z[2:  ,2:])\n",
        "    birth = (N==3) & (Z[1:-1,1:-1]==0)\n",
        "    survive = ((N==2) | (N==3)) & (Z[1:-1,1:-1]==1)\n",
        "    Z[...] = 0\n",
        "    Z[1:-1,1:-1][birth | survive] = 1\n",
        "    return Z\n",
        "Z = np.random.randint(0,2,(50,50))\n",
        "for i in range(100): Z = iterate(Z)\n",
        "print(Z)"
      ]
    },
    {
      "cell_type": "markdown",
      "metadata": {
        "id": "gz687-8Aw6DE"
      },
      "source": [
        "#### 89. How to get the n largest values of an array (★★★) \n",
        "(**hint**: np.argsort | np.argpartition)"
      ]
    },
    {
      "cell_type": "code",
      "execution_count": 5,
      "metadata": {
        "colab": {
          "base_uri": "https://localhost:8080/"
        },
        "id": "pTULNjf5w6DE",
        "outputId": "b0cf4967-632e-44b2-cab5-84b770751db6"
      },
      "outputs": [
        {
          "output_type": "stream",
          "name": "stdout",
          "text": [
            "[495 496 494 499 497 498 493]\n"
          ]
        }
      ],
      "source": [
        "x = np.arange(500)\n",
        "n =7\n",
        "np.random.shuffle(x)\n",
        "\n",
        "print(x[np.argpartition(-x,n)[:n]])"
      ]
    },
    {
      "cell_type": "markdown",
      "metadata": {
        "id": "7eaPvCiMw6DE"
      },
      "source": [
        "#### 90. Given an arbitrary number of vectors, build the cartesian product (every combinations of every item) (★★★) \n",
        "(**hint**: np.indices)"
      ]
    },
    {
      "cell_type": "code",
      "execution_count": 12,
      "metadata": {
        "scrolled": true,
        "colab": {
          "base_uri": "https://localhost:8080/"
        },
        "id": "dGBB8AMRw6DE",
        "outputId": "a9a68d65-0048-40e1-eb65-a03364eff566"
      },
      "outputs": [
        {
          "output_type": "stream",
          "name": "stdout",
          "text": [
            "[[10 40 60]\n",
            " [10 40 70]\n",
            " [10 50 60]\n",
            " [10 50 70]\n",
            " [20 40 60]\n",
            " [20 40 70]\n",
            " [20 50 60]\n",
            " [20 50 70]\n",
            " [30 40 60]\n",
            " [30 40 70]\n",
            " [30 50 60]\n",
            " [30 50 70]]\n"
          ]
        }
      ],
      "source": [
        "def cartesian(arrays):\n",
        "    arrays = [np.asarray(a) for a in arrays]\n",
        "    shape = (len(y) for y in arrays)\n",
        "\n",
        "    x = np.indices(shape, dtype=int)\n",
        "    x = x.reshape(len(arrays), -1).T\n",
        "\n",
        "    for n, arr in enumerate(arrays):\n",
        "      x[:, n] = arrays[n][x[:, n]]\n",
        "\n",
        "    return x\n",
        "\n",
        "print (cartesian(([10, 20, 30], [40, 50], [60, 70])))"
      ]
    },
    {
      "cell_type": "markdown",
      "metadata": {
        "id": "RGiF1EdOw6DE"
      },
      "source": [
        "#### 91. How to create a record array from a regular array? (★★★) \n",
        "(**hint**: np.core.records.fromarrays)"
      ]
    },
    {
      "cell_type": "code",
      "execution_count": 19,
      "metadata": {
        "colab": {
          "base_uri": "https://localhost:8080/"
        },
        "id": "3GXZ6BEpw6DE",
        "outputId": "d70fb165-faf3-4e73-815b-1a1f5b5c229f"
      },
      "outputs": [
        {
          "output_type": "stream",
          "name": "stdout",
          "text": [
            "[(b'Raja', 88.5, 90) (b'ram', 87. , 99) (b'RAJ', 88.5, 91)]\n"
          ]
        }
      ],
      "source": [
        "a = np.array([(\"Raja\",88.5,90),\n",
        "              (\"ram\",87,99),\n",
        "              (\"RAJ\",88.5,91)])\n",
        "x = np.core.records.fromarrays(a.T,\n",
        "                               names =\"col1,col2,col3\",\n",
        "                               formats = \"S80, f8, i8\")\n",
        "print(x)"
      ]
    },
    {
      "cell_type": "markdown",
      "metadata": {
        "id": "L6JBQEfFw6DE"
      },
      "source": [
        "#### 92. Consider a large vector Z, compute Z to the power of 3 using 3 different methods (★★★) \n",
        "(**hint**: np.power, \\*, np.einsum)"
      ]
    },
    {
      "cell_type": "code",
      "execution_count": 20,
      "metadata": {
        "colab": {
          "base_uri": "https://localhost:8080/"
        },
        "id": "uVMMZzEUw6DF",
        "outputId": "254bdcc8-8fd5-4f51-ce7a-417ed57f7d97"
      },
      "outputs": [
        {
          "output_type": "stream",
          "name": "stdout",
          "text": [
            "3.77 s ± 16.3 ms per loop (mean ± std. dev. of 7 runs, 1 loop each)\n",
            "151 ms ± 1.24 ms per loop (mean ± std. dev. of 7 runs, 10 loops each)\n",
            "130 ms ± 1.13 ms per loop (mean ± std. dev. of 7 runs, 10 loops each)\n"
          ]
        }
      ],
      "source": [
        "x = np.random.rand(int(5e7))\n",
        "%timeit np.power(x,3)\n",
        "%timeit x*x*x\n",
        "%timeit np.einsum('i,i,i->i',x,x,x)"
      ]
    },
    {
      "cell_type": "markdown",
      "metadata": {
        "id": "8aT74mFuw6DF"
      },
      "source": [
        "#### 93. Consider two arrays A and B of shape (8,3) and (2,2). How to find rows of A that contain elements of each row of B regardless of the order of the elements in B? (★★★) \n",
        "(**hint**: np.where)"
      ]
    },
    {
      "cell_type": "code",
      "execution_count": 24,
      "metadata": {
        "colab": {
          "base_uri": "https://localhost:8080/"
        },
        "id": "gU7GaAH6w6DF",
        "outputId": "cc3a71b2-ad12-481b-cf4a-d0a4d3115684"
      },
      "outputs": [
        {
          "output_type": "stream",
          "name": "stdout",
          "text": [
            "[0 1 2 4 8]\n"
          ]
        }
      ],
      "source": [
        "\n",
        "A = np.random.randint(0,7,(9,3))\n",
        "B = np.random.randint(0,7,(3,2))\n",
        "\n",
        "C = (A[..., np.newaxis, np.newaxis] == B)\n",
        "rows = np.where(C.any((3,1)).all(1))[0]\n",
        "print(rows)"
      ]
    },
    {
      "cell_type": "markdown",
      "metadata": {
        "id": "ew-R-H9uw6DF"
      },
      "source": [
        "#### 94. Considering a 10x3 matrix, extract rows with unequal values (e.g. \\[2,2,3\\]) (★★★)"
      ]
    },
    {
      "cell_type": "code",
      "source": [
        "Z = np.random.randint(0,5,(10,3))\n",
        "print(Z)\n",
        "E = np.all(Z[:,1:] == Z[:,:-1], axis=1)\n",
        "U = Z[~E]\n",
        "print(U)\n",
        "U = Z[Z.max(axis=1) != Z.min(axis=1),:]\n",
        "print(U)"
      ],
      "metadata": {
        "id": "RnaIEp_9CSMa",
        "outputId": "6a921e67-ea4f-4d6a-b570-8a475738d857",
        "colab": {
          "base_uri": "https://localhost:8080/"
        }
      },
      "execution_count": 27,
      "outputs": [
        {
          "output_type": "stream",
          "name": "stdout",
          "text": [
            "[[2 0 0]\n",
            " [4 3 4]\n",
            " [2 3 4]\n",
            " [2 4 2]\n",
            " [4 3 4]\n",
            " [1 0 1]\n",
            " [0 2 1]\n",
            " [4 4 3]\n",
            " [4 1 1]\n",
            " [3 1 4]]\n",
            "[[2 0 0]\n",
            " [4 3 4]\n",
            " [2 3 4]\n",
            " [2 4 2]\n",
            " [4 3 4]\n",
            " [1 0 1]\n",
            " [0 2 1]\n",
            " [4 4 3]\n",
            " [4 1 1]\n",
            " [3 1 4]]\n",
            "[[2 0 0]\n",
            " [4 3 4]\n",
            " [2 3 4]\n",
            " [2 4 2]\n",
            " [4 3 4]\n",
            " [1 0 1]\n",
            " [0 2 1]\n",
            " [4 4 3]\n",
            " [4 1 1]\n",
            " [3 1 4]]\n"
          ]
        }
      ]
    },
    {
      "cell_type": "markdown",
      "metadata": {
        "id": "xoawN3Y1w6DF"
      },
      "source": [
        "#### 95. Convert a vector of ints into a matrix binary representation (★★★) \n",
        "(**hint**: np.unpackbits)"
      ]
    },
    {
      "cell_type": "code",
      "execution_count": 3,
      "metadata": {
        "colab": {
          "base_uri": "https://localhost:8080/"
        },
        "id": "u6gBCM-cw6DF",
        "outputId": "a96a1c1c-b3f0-4d0b-92b8-b0bd1d40dce5"
      },
      "outputs": [
        {
          "output_type": "stream",
          "name": "stdout",
          "text": [
            "[[0 0 0 0 0 0 0 0]\n",
            " [0 0 0 0 0 0 0 1]\n",
            " [0 0 0 0 0 0 1 0]\n",
            " [0 0 0 0 0 0 1 1]\n",
            " [0 0 0 0 1 1 1 1]\n",
            " [0 0 0 1 0 0 0 0]\n",
            " [0 0 1 0 0 0 0 0]\n",
            " [0 1 0 0 0 0 0 0]\n",
            " [1 0 0 0 0 0 0 0]]\n"
          ]
        }
      ],
      "source": [
        "I = np.array([0, 1, 2, 3, 15, 16, 32, 64, 128], dtype=np.uint8)\n",
        "print(np.unpackbits(I[:, np.newaxis], axis=1))"
      ]
    },
    {
      "cell_type": "markdown",
      "metadata": {
        "id": "epGMIBjcw6DF"
      },
      "source": [
        "#### 96. Given a two dimensional array, how to extract unique rows? (★★★) \n",
        "(**hint**: np.ascontiguousarray)"
      ]
    },
    {
      "cell_type": "code",
      "execution_count": null,
      "metadata": {
        "id": "Djv3h4Rzw6DG"
      },
      "outputs": [],
      "source": [
        "Z = np.random.randint(0,3,(5,2))\n",
        "uZ = np.unique(Z, axis=0)\n",
        "print(uZ)"
      ]
    },
    {
      "cell_type": "markdown",
      "metadata": {
        "id": "ip69KIM1w6DG"
      },
      "source": [
        "#### 97. Considering 2 vectors A & B, write the einsum equivalent of inner, outer, sum, and mul function (★★★) \n",
        "(**hint**: np.einsum)"
      ]
    },
    {
      "cell_type": "code",
      "execution_count": null,
      "metadata": {
        "id": "cdR7tvb5w6DG"
      },
      "outputs": [],
      "source": [
        "A = np.random.uniform(0,1,10)\n",
        "B = np.random.uniform(0,1,10)\n",
        "np.einsum('i->', A)     #SUM  \n",
        "np.einsum('i,i->i', A, B) #MUL\n",
        "np.einsum('i,i', A, B)    #INNER\n",
        "np.einsum('i,j->ij', A, B)   #OUTER"
      ]
    },
    {
      "cell_type": "markdown",
      "metadata": {
        "id": "ogvuH57cw6DG"
      },
      "source": [
        "#### 98. Considering a path described by two vectors (X,Y), how to sample it using equidistant samples (★★★)? \n",
        "(**hint**: np.cumsum, np.interp)"
      ]
    },
    {
      "cell_type": "code",
      "execution_count": 12,
      "metadata": {
        "collapsed": true,
        "id": "1YuxxLCww6DG"
      },
      "outputs": [],
      "source": [
        "\n",
        "phi = np.arange(0, 10*np.pi, 0.1)\n",
        "a = 1\n",
        "x = a*phi*np.cos(phi)\n",
        "y = a*phi*np.sin(phi)\n",
        "\n",
        "dr = (np.diff(x)**2 + np.diff(y)**2)**.5 \n",
        "r = np.zeros_like(x)\n",
        "r[1:] = np.cumsum(dr)                \n",
        "r_int = np.linspace(0, r.max(), 200) \n",
        "x_int = np.interp(r_int, r, x)       \n",
        "y_int = np.interp(r_int, r, y)"
      ]
    },
    {
      "cell_type": "markdown",
      "metadata": {
        "id": "xibP8K2Kw6DG"
      },
      "source": [
        "#### 99. Given an integer n and a 2D array X, select from X the rows which can be interpreted as draws from a multinomial distribution with n degrees, i.e., the rows which only contain integers and which sum to n. (★★★) \n",
        "(**hint**: np.logical\\_and.reduce, np.mod)"
      ]
    },
    {
      "cell_type": "code",
      "execution_count": null,
      "metadata": {
        "id": "pR97pa0Cw6DG"
      },
      "outputs": [],
      "source": [
        "x = np.asarray([[1.0, 0.0, 3.0, 8.0],\n",
        "                [2.0, 0.0, 1.0, 1.0],\n",
        "                [1.5, 2.5, 1.0, 0.0]])\n",
        "n = 4\n",
        "z = np.logical_and.reduce(np.mod(x, 1) ==0, axis=-1)\n",
        "z &=(x.sum(axis=-1) == n)\n",
        "print(x[z])\n",
        "\n",
        "\n"
      ]
    },
    {
      "cell_type": "markdown",
      "metadata": {
        "id": "Lp4iqJ-lw6DG"
      },
      "source": [
        "#### 100. Compute bootstrapped 95% confidence intervals for the mean of a 1D array X (i.e., resample the elements of an array with replacement N times, compute the mean of each sample, and then compute percentiles over the means). (★★★) \n",
        "(**hint**: np.percentile)"
      ]
    },
    {
      "cell_type": "code",
      "execution_count": null,
      "metadata": {
        "id": "Vl4u-eSsw6DG"
      },
      "outputs": [],
      "source": [
        "X = np.random.randn(100) # random 1D array\n",
        "N = 1000 # number of bootstrap samples\n",
        "idx = np.random.randint(0, X.size, (N, X.size))\n",
        "means = X[idx].mean(axis=1)\n",
        "confint = np.percentile(means, [2.5, 97.5])\n",
        "print(confint)"
      ]
    }
  ],
  "metadata": {
    "kernelspec": {
      "display_name": "Python 3",
      "language": "python",
      "name": "python3"
    },
    "language_info": {
      "codemirror_mode": {
        "name": "ipython",
        "version": 3
      },
      "file_extension": ".py",
      "mimetype": "text/x-python",
      "name": "python",
      "nbconvert_exporter": "python",
      "pygments_lexer": "ipython3",
      "version": "3.8.3"
    },
    "colab": {
      "provenance": [],
      "include_colab_link": true
    }
  },
  "nbformat": 4,
  "nbformat_minor": 0
}